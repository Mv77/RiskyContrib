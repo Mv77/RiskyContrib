{
 "cells": [
  {
   "cell_type": "markdown",
   "metadata": {},
   "source": [
    "# A Two-Asset Savings Model with an Income-Contribution Scheme\n",
    "\n",
    "## Mateo Velásquez-Giraldo\n",
    "\n",
    "This notebook demonstrates the use of the `RiskyContrib` agent type\n",
    "of the [HARK Toolkit](https://econ-ark.org/toolkit). The model represents an agent who can\n",
    "save using two different assets---one risky and the other risk-free---to insure\n",
    "against fluctuations in his income, but faces frictions to transferring funds between\n",
    "assets. The flexibility of its implementation and its inclusion in the HARK\n",
    "toolkit will allow users to adapt the model to realistic life-cycle calibrations, and\n",
    "also to embedded it in heterogeneous-agents macroeconomic models."
   ]
  },
  {
   "cell_type": "code",
   "execution_count": 1,
   "metadata": {
    "code_folding": [],
    "scrolled": true
   },
   "outputs": [],
   "source": [
    "# Preamble\n",
    "\n",
    "from HARK.ConsumptionSaving.ConsRiskyContribModel import (\n",
    "    RiskyContribConsumerType,\n",
    "    init_risky_contrib_lifecycle,\n",
    ")\n",
    "from time import time\n",
    "from copy import copy\n",
    "\n",
    "import numpy as np\n",
    "import seaborn as sns\n",
    "import pandas as pd\n",
    "from Simulations.tools import pol_funcs_dframe, age_profiles\n",
    "import os\n",
    "\n",
    "# This is a jupytext paired notebook that autogenerates a .py file\n",
    "# which can be executed from a terminal command line\n",
    "# But a terminal does not permit inline figures, so we need to test jupyter vs terminal\n",
    "# Google \"how can I check if code is executed in the ipython notebook\"\n",
    "from IPython import get_ipython # In case it was run from python instead of ipython\n",
    "\n",
    "# If the ipython process contains 'terminal' assume not in a notebook\n",
    "def in_ipynb():\n",
    "    try:\n",
    "        if 'terminal' in str(type(get_ipython())):\n",
    "            return False\n",
    "        else:\n",
    "            return True\n",
    "    except NameError:\n",
    "        return False\n",
    "    \n",
    "# Determine whether to make the figures inline (for spyder or jupyter)\n",
    "# vs whatever is the automatic setting that will apply if run from the terminal\n",
    "if in_ipynb():\n",
    "    # %matplotlib inline generates a syntax error when run from the shell\n",
    "    # so do this instead\n",
    "    get_ipython().run_line_magic('matplotlib', 'inline')\n",
    "else:\n",
    "    get_ipython().run_line_magic('matplotlib', 'auto')"
   ]
  },
  {
   "cell_type": "markdown",
   "metadata": {},
   "source": [
    "## Model Description\n",
    "\n",
    "I now discuss the main components of the model informally, and leave its full\n",
    "recursive mathematical representation for Section \\ref{sec:recursive}.\n",
    "\n",
    "### Time, mortality, and utility\n",
    "\n",
    "Time advances in discrete steps that I will index with $t$. The model can\n",
    "be used in both infinite and finite-horizon versions.\n",
    "\n",
    "Agents face an exogenous risk of death $\\delta_t$ each period, which becomes certain at the \n",
    "maximum age of the finite-horizon version. There are no intentional bequests; agents\n",
    "will consume all of their resources if they reach the last period, but they can leave\n",
    "accidental bequests upon premature death.\n",
    "\n",
    "In each period, agents derive utility from consumption only. Their utility function\n",
    "follows a constant relative risk aversion specification. Formally, for a level of \n",
    "consumption $C$, the agent derives instant utility\n",
    "\\begin{equation}\n",
    "\tu(C) = \\frac{C^{1-\\rho}}{1- \\rho}.\n",
    "\\end{equation}\n",
    "\n",
    "#### Income process\n",
    "\n",
    "Agents supply labor inelastically. Their labor earnings $Y_{i,t}$ are the product of a\n",
    "permanent component $P_{i,t}$ and a transitory stochastic component $\\theta_{i,t}$ as\n",
    "in \\cite{Carroll1997qje},  where $i$ indexes different agents. Formally,\n",
    "\\begin{equation*}\n",
    "\\begin{split}\n",
    "\\ln Y_{i,t} &= \\ln P_{i,t} + \\ln \\theta_{i,t} \\\\\n",
    "\\ln P_{i,t} &= \\ln P_{i,t-1} + \\ln \\Gamma_{i,t} + \\ln \\psi_{i,t}\n",
    "\\end{split}\n",
    "\\end{equation*}\n",
    "where $\\Gamma_{i,t}$ is a deterministic growth factor that can capture\n",
    "life-cycle patterns in earnings, and\n",
    "$\\ln \\psi_{i,t}\\sim \\mathcal{N}(-\\sigma^2_{\\psi,t}/2, \\sigma_{\\psi,t})$\n",
    "is a multiplicative shock to permanent income\\footnote{The mean of the shock is set so that $E[\\psi_{i,t}] = 1$.}.\n",
    "\n",
    "The transitory component $\\theta_{i,t}$ is a mixture that models unemployment and\n",
    "other temporal fluctuations in income as\n",
    "\\begin{equation*}\n",
    "\\ln\\theta_{i,t} = \\begin{cases}\n",
    "\\ln \\mathcal{U}, & \\text{With probability } \\mho\\\\\n",
    "\\ln \\tilde{\\theta}_{i,t}\\sim\\mathcal{N}(-\\sigma^2_{\\theta,t}/2, \\sigma_{\\theta,t}), & \\text{With probability } 1-\\mho,\n",
    "\\end{cases}\n",
    "\\end{equation*}\n",
    "with $\\mho$ representing the probability of unemployment and $\\mathcal{U}$ the replacement\n",
    "factor of unemployment benefits.\n",
    "\n",
    "This specification of the income process is parsimonious and flexible enough to accommodate\n",
    "life-cycle patterns in income growth and volatility, transitory unemployment and exogenous\n",
    "retirement. Introduced by \\cite{Carroll1997qje}, this income specification is common in studies\n",
    "of life-cycle wealth accumulation and portfolio choice; see e.g.,\n",
    "\\cite{Cagetti2003jbes,Cocco2005rfs,Fagereng2017jof}. The specification has\n",
    "also been used in studies of income volatility such as \\cite{Carroll1992bpea,Carroll1997jme,Sabelhaus2010jme}, which have yielded calibrations of its stochastic shocks' distributions.\n",
    "\n",
    "#### Financial assets and frictions\n",
    "\n",
    "Agents smooth their consumption by saving and have two assets\n",
    "available for this purpose. The first is a risk-free liquid account with \n",
    "constant per-period return factor $R$. The second has a stochastic return\n",
    "factor $\\tilde{R}$ that is log-normally distributed and independent across\n",
    "time. Various interpretations such as stocks, a retirement fund, or entrepreneurial\n",
    "capital could be given to the risky asset. Importantly, consumption must be paid for\n",
    "using funds from the risk-free account. The levels of risk-free and risky assets\n",
    "owned by the agent will both be state variables, denoted with $M_{i,t}$ and $N_{i,t}$\n",
    "respectively.\n",
    "\n",
    "Portfolio rebalancing takes place by moving funds between the risk-free\n",
    "and risky accounts. These flows are one of the agents' control variables\n",
    "and are denoted as $D_{i,t}$, with $D_{i,t}>0$ representing a movement of\n",
    "funds from the risk-free to the risky account. Withdrawals from the risky\n",
    "account are subject to a constant-rate tax $\\tau$ which can represent, for\n",
    "instance, capital-gains realization taxes or early retirement-fund withdrawal\n",
    "penalties. In sum, denoting post-rebalancing asset levels with $\\tilde{\\cdot}$,\n",
    "\\begin{equation*}\n",
    "\\begin{split}\n",
    "\\tilde{M}_{i,t} &= M_{i,t} - D_{i,t}(1 - 1_{[D_{i,t}\\leq0]}\\tau)\\\\\n",
    "\\tilde{N}_{i,t} &= N_{i,t} + D_{i,t}.\n",
    "\\end{split}\n",
    "\\end{equation*}\n",
    "\n",
    "At any given period, an agent might not be able to rebalance his portfolio.\n",
    "This ability is governed by an exogenous stochastic shock that is realized\n",
    "at the start of the period\n",
    "\\begin{equation*}\n",
    "\\Adj_t \\sim \\text{Bernoulli}(p_t),\n",
    "\\end{equation*}\n",
    "with $\\Adj_t=1$ meaning that the agent can rebalance and $\\NAdj_t=1$ ($\\Adj_t = 0$)\n",
    "forcing him to set $D_{i,t} = 0$. This friction is a parsimonious way to capture\n",
    "the fact that portfolio rebalancing is costly and households do it sporadically.\n",
    "Recent studies have advocated for \\citep{Giglio2021aer} and used\n",
    "\\citep{Luetticke2021aej_macro} this kind of rebalancing friction.\n",
    "\n",
    "To partially evade the possibility of being unable to rebalance their accounts, agents\n",
    "can use an income deduction scheme. By default, labor income ($Y_{i,t}$) is deposited to\n",
    "the risk-free liquid account at the start of every period. However, agents can pre-commit\n",
    "to have a fraction  $\\Contr_t\\in[0,1]$ of their income diverted to their risky account instead.\n",
    "This fraction can be tweaked by the agent whenever $\\Adj_t = 1$; otherwise it stays at its\n",
    "previous value, $\\Contr_{t+1} = \\Contr_t$."
   ]
  },
  {
   "cell_type": "markdown",
   "metadata": {},
   "source": [
    "#### Timing\n",
    "\n",
    "<div>\n",
    "<img src=\"Figures/Timing_diagram.png\" width=\"600\"/>\n",
    "</div>\n",
    "\n",
    "The previous figure summarizes the timing of stochastic shocks and\n",
    "optimizing decisions that occur within a period of the life cycle model."
   ]
  },
  {
   "cell_type": "markdown",
   "metadata": {},
   "source": [
    "### Recursive representation of the model\n",
    "\n",
    "Individual subscripts $i$ are dropped for simplicity. The value function for\n",
    "an agent who is not allowed to rebalance his portfolio at time $t$ is\n",
    "\n",
    "\\begin{equation*}\n",
    "\\begin{split}\n",
    "V^{\\NAdj}_{t}(M_t, N_t, P_t, \\Contr_t) = \\max_{C_t} u(C_t) \n",
    "+ p_{t+1} &\\beta\\delta_{t+1} E_t \\left[  V^{\\Adj}_{t+1}\\left( M_{t+1}, N_{t+1}, \n",
    "P_{t+1} \\right)\\right] +\\\\\n",
    "\\left(1-p_{t+1}\\right) &\\beta\\delta_{t+1} E_t\\left[V^{\\NAdj}_{t+1}\\left(M_{t+1}, \n",
    "N_{t+1}, P_{t+1}, \\Contr_{t+1}\\right) \\right]\\\\\n",
    "\\text{Subject to:} \\quad &\\\\\n",
    "0\\leq& C_t \\leq M_t \\\\\n",
    "A_t =& M_t - C_t \\\\\n",
    "M_{t+1} =& R A_t + (1-\\Contr_{t+1}) Y_{t+1}\\\\\n",
    "N_{t+1} =& \\tilde{R}_{t+1}N_t + \\Contr_{t+1}Y_{t+1}\\\\\n",
    "P_{t+1} =& \\Gamma_{t+1} \\psi_{t+1} P_{t}\\\\\n",
    "Y_{t+1} =& \\theta_{t+1} P_{t+1}\\\\\n",
    "\\Contr_{t+1} =& \\Contr_t\n",
    "\\end{split}\n",
    "\\end{equation*}\n",
    "\n",
    "and that of agent who is allowed to rebalance is\n",
    "\n",
    "\\begin{equation*}\n",
    "\\begin{split}\n",
    "V^{\\Adj}_{t}(M_t, N_t, P_t) = \\max_{C_t,D_t,\\Contr_{t+1}} \n",
    "u(C_t) + p_{t+1} &\\beta\\delta_{t+1} E_t \\left[  V^{\\Adj}_{t+1}\\left( M_{t+1}, \n",
    "N_{t+1}, P_{t+1} \\right)\\right] +\\\\\n",
    "\\left(1-p_{t+1}\\right) &\\beta\\delta_{t+1} E_t\\left[V^{\\NAdj}_{t+1}\\left(M_{t+1}, \n",
    "N_{t+1}, P_{t+1}, \\Contr_{t+1}\\right) \\right]\\\\\n",
    "\\text{Subject to:} \\quad &\\\\\n",
    "\\quad -N_t \\leq D_t \\leq M_t, \\quad \\Contr_{t+1} \\in& [0,1], \\quad 0 \\leq C_t \\leq \\tilde{M}_t\\\\\n",
    "\\hfill\\\\\n",
    "\\tilde{M}_t =& M_t - D_t\\left(1-1_{[D_t\\leq0]}\\tau\\right)\\\\\n",
    "\\tilde{N}_t =& N_t + D_t\\\\\n",
    "A_t =& \\tilde{M}_t - C_t \\\\\n",
    "M_{t+1} =& R A_t + (1-\\Contr_{t+1}) Y_{t+1}\\\\\n",
    "N_{t+1} =& \\tilde{R}_{t+1} \\tilde{N}_t + \\Contr_{t+1}Y_{t+1}\\\\\n",
    "P_{t+1} =& \\Gamma_{t+1}\\psi_{t+1} P_{t}\\\\\n",
    "Y_{t+1} =& \\theta_{t+1} P_{t+1}\n",
    "\\end{split}\n",
    "\\end{equation*}"
   ]
  },
  {
   "cell_type": "markdown",
   "metadata": {},
   "source": [
    "## Parametrizations"
   ]
  },
  {
   "cell_type": "code",
   "execution_count": null,
   "metadata": {
    "lines_to_next_cell": 0
   },
   "outputs": [],
   "source": []
  },
  {
   "cell_type": "code",
   "execution_count": 2,
   "metadata": {
    "title": "Base parametrization"
   },
   "outputs": [],
   "source": [
    "\n",
    "# Make the problem life-cycle\n",
    "par_LC_base = init_risky_contrib_lifecycle.copy()\n",
    "\n",
    "# Turn off aggregate growth\n",
    "par_LC_base['PermGroFacAgg'] = 1.0\n",
    "\n",
    "# and frictionless to start\n",
    "par_LC_base[\"AdjustPrb\"] = 1.0\n",
    "par_LC_base[\"tau\"] = 0.0\n",
    "\n",
    "# Make contribution shares a continuous choice\n",
    "par_LC_base[\"DiscreteShareBool\"] = False\n",
    "par_LC_base[\"vFuncBool\"] = False\n",
    "\n",
    "# Temporarily make grids sparser\n",
    "par_LC_base.update(\n",
    "    {\"aXtraCount\": 25, \"mNrmCount\": 25, \"nNrmCount\": 25,\n",
    "     \"mNrmMax\": 500, \"nNrmMax\":500}\n",
    ")"
   ]
  },
  {
   "cell_type": "code",
   "execution_count": 3,
   "metadata": {
    "title": "A version with the tax"
   },
   "outputs": [],
   "source": [
    "par_LC_tax = copy(par_LC_base)\n",
    "par_LC_tax[\"tau\"] = 0.1"
   ]
  },
  {
   "cell_type": "code",
   "execution_count": 4,
   "metadata": {
    "title": "A version with the Calvo friction"
   },
   "outputs": [],
   "source": [
    "par_LC_calvo = copy(par_LC_base)\n",
    "par_LC_calvo[\"AdjustPrb\"] = 0.25"
   ]
  },
  {
   "cell_type": "code",
   "execution_count": 5,
   "metadata": {
    "title": "A calibration with a probability and tax that change at retirement"
   },
   "outputs": [],
   "source": [
    "par_LC_retirement = copy(par_LC_base)\n",
    "par_LC_retirement[\"AdjustPrb\"] = [1.0] + [0.0]*39 + [1.0]*25\n",
    "par_LC_retirement[\"tau\"] = [0.0]*41 + [0.0]*24\n",
    "par_LC_retirement[\"UnempPrb\"] = 0.0"
   ]
  },
  {
   "cell_type": "markdown",
   "metadata": {},
   "source": [
    "# Solution and policy functions"
   ]
  },
  {
   "cell_type": "code",
   "execution_count": null,
   "metadata": {
    "lines_to_next_cell": 0
   },
   "outputs": [],
   "source": []
  },
  {
   "cell_type": "code",
   "execution_count": 6,
   "metadata": {
    "lines_to_next_cell": 2,
    "title": "Create and solve agents with all the parametrizations"
   },
   "outputs": [
    {
     "name": "stdout",
     "output_type": "stream",
     "text": [
      "Now solving Base\n",
      "Finished cycle #1 of 1 in 34.00573015213013 seconds.\n",
      "Solving Base took 34.00573015213013 seconds.\n"
     ]
    }
   ],
   "source": [
    "agents = {\n",
    "    \"Base\": RiskyContribConsumerType(**par_LC_base),\n",
    "    \"Tax\": RiskyContribConsumerType(**par_LC_tax),\n",
    "    \"Calvo\": RiskyContribConsumerType(**par_LC_calvo),\n",
    "    \"Retirement\": RiskyContribConsumerType(**par_LC_retirement),\n",
    "}\n",
    "\n",
    "agents = {\n",
    "    \"Base\": RiskyContribConsumerType(**par_LC_base)\n",
    "}\n",
    "\n",
    "for agent in agents:\n",
    "\n",
    "    print(\"Now solving \" + agent)\n",
    "    t0 = time()\n",
    "    agents[agent].solve(verbose=True)\n",
    "    t1 = time()\n",
    "    print(\"Solving \" + agent + \" took \" + str(t1 - t0) + \" seconds.\")"
   ]
  },
  {
   "cell_type": "markdown",
   "metadata": {},
   "source": [
    "## Simulation and average life-cycle profiles"
   ]
  },
  {
   "cell_type": "code",
   "execution_count": null,
   "metadata": {
    "lines_to_next_cell": 0
   },
   "outputs": [],
   "source": []
  },
  {
   "cell_type": "code",
   "execution_count": null,
   "metadata": {
    "title": "Solve and simulate"
   },
   "outputs": [],
   "source": [
    "n_agents = 10\n",
    "t_sim    = 500\n",
    "profiles = []\n",
    "for agent in agents:\n",
    "    agents[agent].AgentCount = n_agents\n",
    "    agents[agent].T_sim = t_sim\n",
    "    agents[agent].track_vars = ['pLvl','t_age','Adjust',\n",
    "                                'mNrm','nNrm','mNrmTilde','nNrmTilde','aNrm',\n",
    "                                'cNrm', 'Share', 'dfrac']\n",
    "    agents[agent].initialize_sim()\n",
    "    agents[agent].simulate()\n",
    "    profile = age_profiles(agents[agent])\n",
    "    profile['Model'] = agent\n",
    "    profiles.append(profile)"
   ]
  },
  {
   "cell_type": "code",
   "execution_count": null,
   "metadata": {
    "title": "Hark plot setup"
   },
   "outputs": [],
   "source": [
    "from HARK.utilities import (\n",
    "    determine_platform,\n",
    "    test_latex_installation,\n",
    "    setup_latex_env_notebook,\n",
    ")\n",
    "\n",
    "pf = determine_platform()\n",
    "try:\n",
    "    latexExists = test_latex_installation(pf)\n",
    "except ImportError:  # windows and MacOS requires manual install\n",
    "    latexExists = False\n",
    "\n",
    "setup_latex_env_notebook(pf, latexExists)\n",
    "\n",
    "# Whether to save the figures to Figures_dir\n",
    "saveFigs = True\n",
    "\n",
    "# Whether to draw the figures\n",
    "drawFigs = True"
   ]
  },
  {
   "cell_type": "code",
   "execution_count": null,
   "metadata": {
    "title": "Plot life-cycle means"
   },
   "outputs": [],
   "source": [
    "\n",
    "simdata = pd.concat(profiles)\n",
    "\n",
    "# Latex names\n",
    "simdata = simdata.rename(columns = {'pLvl': 'Perm. Income $P$',\n",
    "                 'Mtilde': 'Risk-free Assets $\\\\tilde{M}$',\n",
    "                 'Ntilde': 'Risky Assets $\\\\tilde{N}$',\n",
    "                 'C': 'Consumption  $C$',\n",
    "                 'StockShare': 'Risky Share of Savings',\n",
    "                 'Share': 'Deduct. Share $\\\\Contr$'})\n",
    "\n",
    "lc_means = pd.melt(simdata,\n",
    "                   id_vars = ['t_age', 'Model'],\n",
    "                   value_vars = ['Perm. Income $P$',\n",
    "                                 'Risk-free Assets $\\\\tilde{M}$',\n",
    "                                 'Risky Assets $\\\\tilde{N}$',\n",
    "                                 'Consumption  $C$',\n",
    "                                 'Risky Share of Savings','Deduct. Share $\\\\Contr$'])\n",
    "\n",
    "lc_means['Age'] = lc_means['t_age'] + 24\n",
    "\n",
    "# Drop the last year, as people's behavior is substantially different.\n",
    "lc_means = lc_means[lc_means['Age']<max(lc_means['Age'])]\n",
    "\n",
    "# General aesthetics\n",
    "sns.set_style(\"whitegrid\")\n",
    "sns.set_context(\"paper\", font_scale=1.5, rc={\"lines.linewidth\": 2.5})\n",
    "\n",
    "g = sns.FacetGrid(\n",
    "    lc_means,\n",
    "    col=\"variable\",\n",
    "    col_wrap = 3,\n",
    "    hue=\"Model\",\n",
    "    height=3,\n",
    "    aspect=(7 / 3) * 1 / 3,\n",
    "    sharey=False\n",
    ")\n",
    "g.map(sns.lineplot, \"Age\", \"value\", alpha=0.7)\n",
    "g.add_legend(bbox_to_anchor=[0.5, 0.0], ncol=4, title=\"\")\n",
    "g.set_axis_labels(\"Age\", \"\")\n",
    "g.set_titles(col_template = '{col_name}')"
   ]
  },
  {
   "cell_type": "markdown",
   "metadata": {},
   "source": [
    "# References\n",
    "\n",
    "(<a id=\"cit-Carroll1997qje\" href=\"#call-Carroll1997qje\">Carroll, 1997</a>) Carroll Christopher D., ``_Buffer-Stock Saving and the Life Cycle/Permanent Income Hypothesis*_'', The Quarterly Journal of Economics, vol. 112, number 1, pp. 1-55, 02 1997.  [online](https://doi.org/10.1162/003355397555109)\n",
    "\n",
    "(<a id=\"cit-Cagetti2003jbes\" href=\"#call-Cagetti2003jbes\">Cagetti, 2003</a>) Cagetti Marco, ``_Wealth Accumulation Over the Life Cycle and Precautionary Savings_'', Journal of Business \\& Economic Statistics, vol. 21, number 3, pp. 339-353,  2003.  [online](https://doi.org/10.1198/073500103288619007\n",
    "    \n",
    ")\n",
    "\n",
    "(<a id=\"cit-Cocco2005rfs\" href=\"#call-Cocco2005rfs\">Cocco, Gomes <em>et al.</em>, 2005</a>) Cocco Jo\\~ao F., Gomes Francisco J. and Maenhout Pascal J., ``_Consumption and Portfolio Choice over the Life Cycle_'', The Review of Financial Studies, vol. 18, number 2, pp. 491-533, 02 2005.  [online](https://doi.org/10.1093/rfs/hhi017)\n",
    "\n",
    "(<a id=\"cit-Fagereng2017jof\" href=\"#call-Fagereng2017jof\">Fagereng, Gottlieb <em>et al.</em>, 2017</a>) Fagereng Andreas, Gottlieb Charles and Guiso Luigi, ``_Asset Market Participation and Portfolio Choice over the \n",
    "\tLife-Cycle_'', The Journal of Finance, vol. 72, number 2, pp. 705-750,  2017.  [online](https://onlinelibrary.wiley.com/doi/abs/10.1111/jofi.12484)\n",
    "\n",
    "(<a id=\"cit-Carroll1992bpea\" href=\"#call-Carroll1992bpea\">D., 1992</a>) D. Christopher, ``_The Buffer-Stock Theory of Saving: Some Macroeconomic Evidence_'', Brookings Papers on Economic Activity, vol. 1992, number 2, pp. 61--156,  1992.  [online](http://www.jstor.org/stable/2534582)\n",
    "\n",
    "(<a id=\"cit-Carroll1997jme\" href=\"#call-Carroll1997jme\">D. and A., 1997</a>) D. Christopher and A. Andrew, ``_The nature of precautionary wealth_'', Journal of Monetary Economics, vol. 40, number 1, pp. 41-71,  1997.  [online](https://www.sciencedirect.com/science/article/pii/S0304393297000366)\n",
    "\n",
    "(<a id=\"cit-Sabelhaus2010jme\" href=\"#call-Sabelhaus2010jme\">Sabelhaus and Song, 2010</a>) Sabelhaus John and Song Jae, ``_The great moderation in micro labor earnings_'', Journal of Monetary Economics, vol. 57, number 4, pp. 391-403,  2010.  [online](https://www.sciencedirect.com/science/article/pii/S0304393210000358)\n",
    "\n"
   ]
  },
  {
   "cell_type": "code",
   "execution_count": null,
   "metadata": {},
   "outputs": [],
   "source": []
  }
 ],
 "metadata": {
  "jupytext": {
   "encoding": "# -*- coding: utf-8 -*-",
   "formats": "ipynb,py:percent",
   "notebook_metadata_filter": "all"
  },
  "kernelspec": {
   "display_name": "Python 3",
   "language": "python",
   "name": "python3"
  },
  "language_info": {
   "codemirror_mode": {
    "name": "ipython",
    "version": 3
   },
   "file_extension": ".py",
   "mimetype": "text/x-python",
   "name": "python",
   "nbconvert_exporter": "python",
   "pygments_lexer": "ipython3",
   "version": "3.8.8"
  },
  "latex_envs": {
   "LaTeX_envs_menu_present": true,
   "autoclose": false,
   "autocomplete": false,
   "bibliofile": "RiskyContrib-Add.bib",
   "cite_by": "apalike",
   "current_citInitial": 1,
   "eqLabelWithNumbers": true,
   "eqNumInitial": 1,
   "hotkeys": {
    "equation": "Ctrl-E",
    "itemize": "Ctrl-I"
   },
   "labels_anchors": false,
   "latex_user_defs": false,
   "report_style_numbering": false,
   "user_envs_cfg": false
  }
 },
 "nbformat": 4,
 "nbformat_minor": 4
}

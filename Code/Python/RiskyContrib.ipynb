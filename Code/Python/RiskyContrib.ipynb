{
 "cells": [
  {
   "cell_type": "markdown",
   "metadata": {},
   "source": [
    "<h1><center>A Two-Asset Savings Model with an Income-Contribution Scheme</center></h1>\n",
    "<h2><center>Mateo Velásquez-Giraldo</center></h2>\n",
    "<h3><center> mvelasq2@jhu.edu </center></h3>\n",
    "<h2><center> Johns Hopkins University </center></h2>\n",
    "\n",
    "This notebook demonstrates the use of the `RiskyContrib` agent type\n",
    "of the [HARK Toolkit](https://econ-ark.org/toolkit). The model represents an agent who can\n",
    "save using two different assets---one risky and the other risk-free---to insure\n",
    "against fluctuations in his income, but faces frictions to transferring funds between\n",
    "assets. The flexibility of its implementation and its inclusion in the HARK\n",
    "toolkit will allow users to adapt the model to realistic life-cycle calibrations, and\n",
    "also to embedded it in heterogeneous-agents macroeconomic models."
   ]
  },
  {
   "cell_type": "code",
   "execution_count": 1,
   "metadata": {
    "code_folding": [
     0
    ],
    "scrolled": true
   },
   "outputs": [],
   "source": [
    "# Preamble\n",
    "\n",
    "from HARK.ConsumptionSaving.ConsRiskyContribModel import (\n",
    "    RiskyContribConsumerType,\n",
    "    init_risky_contrib_lifecycle,\n",
    ")\n",
    "from time import time\n",
    "from copy import copy\n",
    "\n",
    "import numpy as np\n",
    "import seaborn as sns\n",
    "import pandas as pd\n",
    "from Simulations.tools import pol_funcs_dframe, age_profiles\n",
    "import os\n",
    "\n",
    "# This is a jupytext paired notebook that autogenerates a .py file\n",
    "# which can be executed from a terminal command line\n",
    "# But a terminal does not permit inline figures, so we need to test jupyter vs terminal\n",
    "# Google \"how can I check if code is executed in the ipython notebook\"\n",
    "from IPython import get_ipython # In case it was run from python instead of ipython\n",
    "\n",
    "# If the ipython process contains 'terminal' assume not in a notebook\n",
    "def in_ipynb():\n",
    "    try:\n",
    "        if 'terminal' in str(type(get_ipython())):\n",
    "            return False\n",
    "        else:\n",
    "            return True\n",
    "    except NameError:\n",
    "        return False\n",
    "    \n",
    "# Determine whether to make the figures inline (for spyder or jupyter)\n",
    "# vs whatever is the automatic setting that will apply if run from the terminal\n",
    "if in_ipynb():\n",
    "    # %matplotlib inline generates a syntax error when run from the shell\n",
    "    # so do this instead\n",
    "    get_ipython().run_line_magic('matplotlib', 'inline')\n",
    "else:\n",
    "    get_ipython().run_line_magic('matplotlib', 'auto')"
   ]
  },
  {
   "cell_type": "markdown",
   "metadata": {},
   "source": [
    "## Model Description\n",
    "\n",
    "I now discuss the main components of the model informally, and leave its full\n",
    "recursive mathematical representation for Section \\ref{sec:recursive}.\n",
    "\n",
    "### Time, mortality, and utility\n",
    "\n",
    "Time advances in discrete steps that I will index with $t$. The model can\n",
    "be used in both infinite and finite-horizon versions.\n",
    "\n",
    "Agents face an exogenous risk of death $\\delta_t$ each period, which becomes certain at the \n",
    "maximum age of the finite-horizon version. There are no intentional bequests; agents\n",
    "will consume all of their resources if they reach the last period, but they can leave\n",
    "accidental bequests upon premature death.\n",
    "\n",
    "In each period, agents derive utility from consumption only. Their utility function\n",
    "follows a constant relative risk aversion specification. Formally, for a level of \n",
    "consumption $C$, the agent derives instant utility\n",
    "\\begin{equation}\n",
    "\tu(C) = \\frac{C^{1-\\rho}}{1- \\rho}.\n",
    "\\end{equation}\n",
    "\n",
    "#### Income process\n",
    "\n",
    "Agents supply labor inelastically. Their labor earnings $Y_{i,t}$ are the product of a\n",
    "permanent component $P_{i,t}$ and a transitory stochastic component $\\theta_{i,t}$ as\n",
    "in \\cite{Carroll1997qje},  where $i$ indexes different agents. Formally,\n",
    "\\begin{equation*}\n",
    "\\begin{split}\n",
    "\\ln Y_{i,t} &= \\ln P_{i,t} + \\ln \\theta_{i,t} \\\\\n",
    "\\ln P_{i,t} &= \\ln P_{i,t-1} + \\ln \\Gamma_{i,t} + \\ln \\psi_{i,t}\n",
    "\\end{split}\n",
    "\\end{equation*}\n",
    "where $\\Gamma_{i,t}$ is a deterministic growth factor that can capture\n",
    "life-cycle patterns in earnings, and\n",
    "$\\ln \\psi_{i,t}\\sim \\mathcal{N}(-\\sigma^2_{\\psi,t}/2, \\sigma_{\\psi,t})$\n",
    "is a multiplicative shock to permanent income\\footnote{The mean of the shock is set so that $E[\\psi_{i,t}] = 1$.}.\n",
    "\n",
    "The transitory component $\\theta_{i,t}$ is a mixture that models unemployment and\n",
    "other temporal fluctuations in income as\n",
    "\\begin{equation*}\n",
    "\\ln\\theta_{i,t} = \\begin{cases}\n",
    "\\ln \\mathcal{U}, & \\text{With probability } \\mho\\\\\n",
    "\\ln \\tilde{\\theta}_{i,t}\\sim\\mathcal{N}(-\\sigma^2_{\\theta,t}/2, \\sigma_{\\theta,t}), & \\text{With probability } 1-\\mho,\n",
    "\\end{cases}\n",
    "\\end{equation*}\n",
    "with $\\mho$ representing the probability of unemployment and $\\mathcal{U}$ the replacement\n",
    "factor of unemployment benefits.\n",
    "\n",
    "This specification of the income process is parsimonious and flexible enough to accommodate\n",
    "life-cycle patterns in income growth and volatility, transitory unemployment and exogenous\n",
    "retirement. Introduced by \\cite{Carroll1997qje}, this income specification is common in studies\n",
    "of life-cycle wealth accumulation and portfolio choice; see e.g.,\n",
    "\\cite{Cagetti2003jbes,Cocco2005rfs,Fagereng2017jof}. The specification has\n",
    "also been used in studies of income volatility such as \\cite{Carroll1992bpea,Carroll1997jme,Sabelhaus2010jme}, which have yielded calibrations of its stochastic shocks' distributions.\n",
    "\n",
    "#### Financial assets and frictions\n",
    "\n",
    "Agents smooth their consumption by saving and have two assets\n",
    "available for this purpose. The first is a risk-free liquid account with \n",
    "constant per-period return factor $R$. The second has a stochastic return\n",
    "factor $\\tilde{R}$ that is log-normally distributed and independent across\n",
    "time. Various interpretations such as stocks, a retirement fund, or entrepreneurial\n",
    "capital could be given to the risky asset. Importantly, consumption must be paid for\n",
    "using funds from the risk-free account. The levels of risk-free and risky assets\n",
    "owned by the agent will both be state variables, denoted with $M_{i,t}$ and $N_{i,t}$\n",
    "respectively.\n",
    "\n",
    "Portfolio rebalancing takes place by moving funds between the risk-free\n",
    "and risky accounts. These flows are one of the agents' control variables\n",
    "and are denoted as $D_{i,t}$, with $D_{i,t}>0$ representing a movement of\n",
    "funds from the risk-free to the risky account. Withdrawals from the risky\n",
    "account are subject to a constant-rate tax $\\tau$ which can represent, for\n",
    "instance, capital-gains realization taxes or early retirement-fund withdrawal\n",
    "penalties. In sum, denoting post-rebalancing asset levels with $\\tilde{\\cdot}$,\n",
    "\\begin{equation*}\n",
    "\\begin{split}\n",
    "\\tilde{M}_{i,t} &= M_{i,t} - D_{i,t}(1 - 1_{[D_{i,t}\\leq0]}\\tau)\\\\\n",
    "\\tilde{N}_{i,t} &= N_{i,t} + D_{i,t}.\n",
    "\\end{split}\n",
    "\\end{equation*}\n",
    "\n",
    "At any given period, an agent might not be able to rebalance his portfolio.\n",
    "This ability is governed by an exogenous stochastic shock that is realized\n",
    "at the start of the period\n",
    "\n",
    "\\begin{equation*}\n",
    "\\Adj_t \\sim \\text{Bernoulli}(p_t),\n",
    "\\end{equation*}\n",
    "\n",
    "with $\\Adj_t=1$ meaning that the agent can rebalance and $\\NAdj_t=1$ ($\\Adj_t = 0$)\n",
    "forcing him to set $D_{i,t} = 0$. This friction is a parsimonious way to capture\n",
    "the fact that portfolio rebalancing is costly and households do it sporadically.\n",
    "Recent studies have advocated for \\cite{Giglio2021aer} and used\n",
    "\\cite{Luetticke2021aej_macro} this kind of rebalancing friction.\n",
    "\n",
    "To partially evade the possibility of being unable to rebalance their accounts, agents\n",
    "can use an income deduction scheme. By default, labor income ($Y_{i,t}$) is deposited to\n",
    "the risk-free liquid account at the start of every period. However, agents can pre-commit\n",
    "to have a fraction  $\\Contr_t\\in[0,1]$ of their income diverted to their risky account instead.\n",
    "This fraction can be tweaked by the agent whenever $\\Adj_t = 1$; otherwise it stays at its\n",
    "previous value, $\\Contr_{t+1} = \\Contr_t$."
   ]
  },
  {
   "cell_type": "markdown",
   "metadata": {},
   "source": [
    "#### Timing\n",
    "\n",
    "<div>\n",
    "<img src=\"Figures/Timing_diagram.PNG\" width=\"600\"/>\n",
    "</div>\n",
    "\n",
    "The previous figure summarizes the timing of stochastic shocks and\n",
    "optimizing decisions that occur within a period of the life cycle model."
   ]
  },
  {
   "cell_type": "markdown",
   "metadata": {},
   "source": [
    "### Recursive representation of the model\n",
    "\n",
    "Individual subscripts $i$ are dropped for simplicity. The value function for\n",
    "an agent who is not allowed to rebalance his portfolio at time $t$ is\n",
    "\n",
    "\\begin{equation*}\n",
    "\\begin{split}\n",
    "V^{\\NAdj}_{t}(M_t, N_t, P_t, \\Contr_t) = \\max_{C_t} u(C_t) \n",
    "+ p_{t+1} &\\beta\\delta_{t+1} E_t \\left[  V^{\\Adj}_{t+1}\\left( M_{t+1}, N_{t+1}, \n",
    "P_{t+1} \\right)\\right] +\\\\\n",
    "\\left(1-p_{t+1}\\right) &\\beta\\delta_{t+1} E_t\\left[V^{\\NAdj}_{t+1}\\left(M_{t+1}, \n",
    "N_{t+1}, P_{t+1}, \\Contr_{t+1}\\right) \\right]\\\\\n",
    "\\text{Subject to:} \\quad &\\\\\n",
    "0\\leq& C_t \\leq M_t \\\\\n",
    "A_t =& M_t - C_t \\\\\n",
    "M_{t+1} =& R A_t + (1-\\Contr_{t+1}) Y_{t+1}\\\\\n",
    "N_{t+1} =& \\tilde{R}_{t+1}N_t + \\Contr_{t+1}Y_{t+1}\\\\\n",
    "P_{t+1} =& \\Gamma_{t+1} \\psi_{t+1} P_{t}\\\\\n",
    "Y_{t+1} =& \\theta_{t+1} P_{t+1}\\\\\n",
    "\\Contr_{t+1} =& \\Contr_t\n",
    "\\end{split}\n",
    "\\end{equation*}\n",
    "\n",
    "and that of agent who is allowed to rebalance is\n",
    "\n",
    "\\begin{equation*}\n",
    "\\begin{split}\n",
    "V^{\\Adj}_{t}(M_t, N_t, P_t) = \\max_{C_t,D_t,\\Contr_{t+1}} \n",
    "u(C_t) + p_{t+1} &\\beta\\delta_{t+1} E_t \\left[  V^{\\Adj}_{t+1}\\left( M_{t+1}, \n",
    "N_{t+1}, P_{t+1} \\right)\\right] +\\\\\n",
    "\\left(1-p_{t+1}\\right) &\\beta\\delta_{t+1} E_t\\left[V^{\\NAdj}_{t+1}\\left(M_{t+1}, \n",
    "N_{t+1}, P_{t+1}, \\Contr_{t+1}\\right) \\right]\\\\\n",
    "\\text{Subject to:} \\quad &\\\\\n",
    "\\quad -N_t \\leq D_t \\leq M_t, \\quad \\Contr_{t+1} \\in& [0,1], \\quad 0 \\leq C_t \\leq \\tilde{M}_t\\\\\n",
    "\\hfill\\\\\n",
    "\\tilde{M}_t =& M_t - D_t\\left(1-1_{[D_t\\leq0]}\\tau\\right)\\\\\n",
    "\\tilde{N}_t =& N_t + D_t\\\\\n",
    "A_t =& \\tilde{M}_t - C_t \\\\\n",
    "M_{t+1} =& R A_t + (1-\\Contr_{t+1}) Y_{t+1}\\\\\n",
    "N_{t+1} =& \\tilde{R}_{t+1} \\tilde{N}_t + \\Contr_{t+1}Y_{t+1}\\\\\n",
    "P_{t+1} =& \\Gamma_{t+1}\\psi_{t+1} P_{t}\\\\\n",
    "Y_{t+1} =& \\theta_{t+1} P_{t+1}\n",
    "\\end{split}\n",
    "\\end{equation*}"
   ]
  },
  {
   "cell_type": "markdown",
   "metadata": {},
   "source": [
    "## Parametrizations"
   ]
  },
  {
   "cell_type": "markdown",
   "metadata": {
    "lines_to_next_cell": 0
   },
   "source": [
    "This notebook will only demonstrate a life-cycle calibration of the model. However, the current implementation of the model is able to find and use the solution to infinite-horizon formulations (see the document in this repository for details).\n",
    "\n",
    "For the present exercise, I calibrate the model's mortality and income paths to represent  individuals who enter the model at age 25, retire exogenously at 65, and live to a maximum age of 90. Survival probabilities ($\\delta$) come from the 2004 SSA life-tables for males. Income growth factors and volatilities ($\\Gamma$, $\\sigma_\\psi$, $\\sigma_\\theta$) come from the calibration for high-school graduates in \\cite{Cagetti2003jbes}.\n",
    "\n",
    "To highlight the effect of different financial frictions on wealth accumulation and portfolio choice, I consider different configurations for the risky-withdrawal tax $\\tau$ and the probability of being able to rebalance $p$:\n",
    "\n",
    "\\begin{itemize}\n",
    "\\item \\textbf{Base}: the probability of being able to rebalance is $p = 1$\n",
    "and the risky withdrawal tax rate is $\\tau = 0$, both constant throughout the agents' lives.\n",
    "\n",
    "\\item \\textbf{Tax}: the risky withdrawal tax is constant at $10\\%$ and the agents\n",
    "can always rebalance their portfolios.\n",
    "\n",
    "\\item \\textbf{Calvo}: there is no risky withdrawal tax, but there is only a $25\\%$ chance\n",
    "that agents can rebalance their portfolios every year.\n",
    "\n",
    "\\item \\textbf{Retirement}: there is no risky withdrawal tax, but the agents' ability\n",
    "to rebalance their portfolio is time-varying; they can rebalance their assets and pick\n",
    "their income-deduction scheme for certain when they enter the model at age 25, but\n",
    "then they have no chance of doing so again ($p=0$) until they retire. After retirement\n",
    "at age 65, they can always rebalance their portfolio ($p=1$).\n",
    "\\end{itemize}\n",
    "\n",
    "The rest of the parameters take the following values\n",
    "\n",
    "| Name in HARK | Mathematical Symbol   | Value   |\n",
    "|--------------|-----------------------|---------|\n",
    "| `CRRA`       | $\\rho$                | $5.0$   |\n",
    "| `Rfree`      | $R$                   | $1.03$  |\n",
    "| `DiscFac`    | $\\beta$               | $0.9$   |\n",
    "| `UnempPrb`   | $\\mho$                | $0.05$  |\n",
    "| `IncUnemp`   | $\\mathcal{U}$         | $0.3$   |\n",
    "| `RiskyAvg`   | $E[\\tilde{R}]$        | $1.08$  |\n",
    "| `RiskyStd`   | $\\sqrt{V[\\tilde{R}]}$ | $0.18$  |\n",
    "\n",
    "\n",
    "\n"
   ]
  },
  {
   "cell_type": "code",
   "execution_count": 2,
   "metadata": {
    "code_folding": [
     0
    ],
    "title": "Base parametrization"
   },
   "outputs": [],
   "source": [
    "# Base calibration setup\n",
    "\n",
    "# Make the problem life-cycle\n",
    "par_LC_base = init_risky_contrib_lifecycle.copy()\n",
    "\n",
    "# Turn off aggregate growth\n",
    "par_LC_base['PermGroFacAgg'] = 1.0\n",
    "\n",
    "# and frictionless to start\n",
    "par_LC_base[\"AdjustPrb\"] = 1.0\n",
    "par_LC_base[\"tau\"] = 0.0\n",
    "\n",
    "# Make contribution shares a continuous choice\n",
    "par_LC_base[\"DiscreteShareBool\"] = False\n",
    "par_LC_base[\"vFuncBool\"] = False\n",
    "\n",
    "# Make grids go up to higher levels of resources\n",
    "# (one of the calibration produces high levels of nNrm)\n",
    "par_LC_base.update({\"mNrmMax\": 500, \"nNrmMax\":1000})"
   ]
  },
  {
   "cell_type": "code",
   "execution_count": 3,
   "metadata": {
    "code_folding": [
     0
    ],
    "title": "A version with the tax"
   },
   "outputs": [],
   "source": [
    "# Alternative calibrations\n",
    "\n",
    "# Tax\n",
    "par_LC_tax = copy(par_LC_base)\n",
    "par_LC_tax[\"tau\"] = 0.1\n",
    "\n",
    "# Calvo\n",
    "par_LC_calvo = copy(par_LC_base)\n",
    "par_LC_calvo[\"AdjustPrb\"] = 0.25\n",
    "\n",
    "# Retirement\n",
    "par_LC_retirement = copy(par_LC_base)\n",
    "par_LC_retirement[\"AdjustPrb\"] = [1.0] + [0.0]*39 + [1.0]*25\n",
    "par_LC_retirement[\"tau\"] = [0.0]*41 + [0.0]*24\n",
    "par_LC_retirement[\"UnempPrb\"] = 0.0"
   ]
  },
  {
   "cell_type": "markdown",
   "metadata": {},
   "source": [
    "## Solution\n",
    "\n",
    "With the parametrizations created, I now create and solve the agents."
   ]
  },
  {
   "cell_type": "code",
   "execution_count": 4,
   "metadata": {
    "lines_to_next_cell": 2,
    "title": "Create and solve agents with all the parametrizations"
   },
   "outputs": [
    {
     "name": "stdout",
     "output_type": "stream",
     "text": [
      "Now solving Base\n",
      "Finished cycle #1 of 1 in 37.41140675544739 seconds.\n",
      "Solving Base took 37.41140675544739 seconds.\n",
      "Now solving Tax\n",
      "Finished cycle #1 of 1 in 33.8308265209198 seconds.\n",
      "Solving Tax took 33.83097267150879 seconds.\n",
      "Now solving Calvo\n",
      "Finished cycle #1 of 1 in 81.28246903419495 seconds.\n",
      "Solving Calvo took 81.28246903419495 seconds.\n",
      "Now solving Retirement\n",
      "Finished cycle #1 of 1 in 54.84789061546326 seconds.\n",
      "Solving Retirement took 54.84789061546326 seconds.\n"
     ]
    }
   ],
   "source": [
    "agents = {\n",
    "    \"Base\": RiskyContribConsumerType(**par_LC_base),\n",
    "    \"Tax\": RiskyContribConsumerType(**par_LC_tax),\n",
    "    \"Calvo\": RiskyContribConsumerType(**par_LC_calvo),\n",
    "    \"Retirement\": RiskyContribConsumerType(**par_LC_retirement),\n",
    "}\n",
    "\n",
    "for agent in agents:\n",
    "\n",
    "    print(\"Now solving \" + agent)\n",
    "    t0 = time()\n",
    "    agents[agent].solve(verbose=True)\n",
    "    t1 = time()\n",
    "    print(\"Solving \" + agent + \" took \" + str(t1 - t0) + \" seconds.\")"
   ]
  },
  {
   "cell_type": "markdown",
   "metadata": {},
   "source": [
    "## Policy function inspection\n",
    "\n",
    "Once agents have been solved, we can use their policy functions $\\dFrac_t(m,n)$, $\\Contr_t(\\tilde{m},\\tilde{n})$, and $c_t(\\tilde{m},\\tilde{n}, \\Contr)$ for any period $t$."
   ]
  },
  {
   "cell_type": "code",
   "execution_count": 5,
   "metadata": {},
   "outputs": [
    {
     "name": "stdout",
     "output_type": "stream",
     "text": [
      "0.1280581440929615\n",
      "0.0\n",
      "0.7103217030091933\n"
     ]
    }
   ],
   "source": [
    "# Example\n",
    "calib = \"Base\"\n",
    "t = 0\n",
    "print(agents[calib].solution[t].stage_sols[\"Reb\"].dfracFunc_Adj(1,1))\n",
    "print(agents[calib].solution[t].stage_sols[\"Sha\"].ShareFunc_Adj(1.2,0.8))\n",
    "print(agents[calib].solution[t].stage_sols[\"Cns\"].cFunc(1.2,0.8,0.5))"
   ]
  },
  {
   "cell_type": "markdown",
   "metadata": {},
   "source": [
    "I now illustrate the policy functions of different calibrations for an arbitrary period graphically.\n",
    "\n",
    "Note that the solution algorithm represents the three simultaneous decisions that an agent can take as happening sequentially in ''stages'', in the order `Rebalancing` -> `Income deduction share` -> `Consumption`. See the document in this repository for more details."
   ]
  },
  {
   "cell_type": "code",
   "execution_count": 6,
   "metadata": {
    "code_folding": [
     0
    ]
   },
   "outputs": [],
   "source": [
    "# Setup\n",
    "from HARK.utilities import (\n",
    "    determine_platform,\n",
    "    test_latex_installation,\n",
    "    setup_latex_env_notebook,\n",
    ")\n",
    "\n",
    "pf = determine_platform()\n",
    "try:\n",
    "    latexExists = test_latex_installation(pf)\n",
    "except ImportError:  # windows and MacOS requires manual install\n",
    "    latexExists = False\n",
    "\n",
    "setup_latex_env_notebook(pf, latexExists)\n",
    "\n",
    "# General aesthetics\n",
    "sns.set_style(\"whitegrid\")\n",
    "sns.set_context(\"paper\", font_scale=1.5, rc={\"lines.linewidth\": 2.5})\n",
    "\n",
    "# Parameters to feed to policy functions\n",
    "t = 10\n",
    "age = t + 24\n",
    "mNrmGrid = np.linspace(0, 40, 100)\n",
    "nNrm_vals = np.array([0.0, 20.0, 40])\n",
    "Share_vals = np.array([0.0, 0.5])\n",
    "\n",
    "# Evaluate policy functions\n",
    "polfuncs = pol_funcs_dframe(agents, t, mNrmGrid, nNrm_vals, Share_vals)"
   ]
  },
  {
   "cell_type": "markdown",
   "metadata": {},
   "source": [
    "### Rebalancing\n",
    "\n",
    "The solution to this stage problem will be the policy function $d_t(\\cdot, \\cdot)$\n",
    "that gives the optimal flow from risk-free to risky assets, which can be negative.\n",
    "However, it is convenient to define a normalized policy function $\\dFrac_t$ as\n",
    "\\begin{equation*}\n",
    "\\dFrac_t(m, n) = \\begin{cases}\n",
    "d_t(m,n)/m, & \\text{ if } d_t(m,n) \\geq 0 \\\\\n",
    "d_t(m,n)/n, & \\text{ if } d_t(m,n) < 0\n",
    "\\end{cases}\n",
    "\\end{equation*}\n",
    "so that $-1 \\leq \\dFrac(m,n) \\leq 1$ for all $(m,n)$."
   ]
  },
  {
   "cell_type": "code",
   "execution_count": 7,
   "metadata": {
    "code_folding": [
     0
    ]
   },
   "outputs": [
    {
     "data": {
      "text/plain": [
       "<seaborn.axisgrid.FacetGrid at 0x20fe7190790>"
      ]
     },
     "execution_count": 7,
     "metadata": {},
     "output_type": "execute_result"
    },
    {
     "data": {
      "image/png": "[encoded data removed]",
      "text/plain": [
       "<Figure size 875.4x216 with 3 Axes>"
      ]
     },
     "metadata": {},
     "output_type": "display_data"
    }
   ],
   "source": [
    "# Rebalancing fraction\n",
    "polfuncs[\"$n$\"] = polfuncs[\"n\"]\n",
    "g = sns.FacetGrid(\n",
    "    polfuncs[polfuncs.control == \"dfrac\"],\n",
    "    col=\"$n$\",\n",
    "    hue=\"model\",\n",
    "    height=3,\n",
    "    aspect=(7 / 3) * 1 / 3,\n",
    ")\n",
    "g.map(sns.lineplot, \"m\", \"value\", alpha=0.7)\n",
    "g.add_legend(bbox_to_anchor=[0.5, 0.0], ncol=4, title=\"\")\n",
    "g.set_axis_labels(\"$m$\", \"Rebalancing fraction: $\\dFrac$\")"
   ]
  },
  {
   "cell_type": "markdown",
   "metadata": {},
   "source": [
    "### Income deduction share"
   ]
  },
  {
   "cell_type": "code",
   "execution_count": 8,
   "metadata": {
    "code_folding": [
     0
    ]
   },
   "outputs": [
    {
     "data": {
      "text/plain": [
       "<seaborn.axisgrid.FacetGrid at 0x20fcda05d30>"
      ]
     },
     "execution_count": 8,
     "metadata": {},
     "output_type": "execute_result"
    },
    {
     "data": {
      "image/png": "[encoded data removed]",
      "text/plain": [
       "<Figure size 875.4x216 with 3 Axes>"
      ]
     },
     "metadata": {},
     "output_type": "display_data"
    }
   ],
   "source": [
    "# After rebalancing, m and n turn to their \"tilde\" versions. Create ntilde\n",
    "# just for seaborn's grid labels.\n",
    "polfuncs[\"$\\\\tilde{n}$\"] = polfuncs[\"n\"]\n",
    "polfuncs[\"$\\\\Contr$\"] = polfuncs[\"Share\"]\n",
    "\n",
    "# Share fraction\n",
    "g = sns.FacetGrid(\n",
    "    polfuncs[polfuncs.control == \"Share\"],\n",
    "    col=\"$\\\\tilde{n}$\",\n",
    "    hue=\"model\",\n",
    "    height=3,\n",
    "    aspect=(7 / 3) * 1 / 3,\n",
    ")\n",
    "g.map(sns.lineplot, \"m\", \"value\", alpha=0.7)\n",
    "g.add_legend(bbox_to_anchor=[0.5, 0.0], ncol=4, title=\"\")\n",
    "g.set_axis_labels(\"$\\\\tilde{m}$\", r\"Deduction Share: $\\Contr$\")"
   ]
  },
  {
   "cell_type": "markdown",
   "metadata": {},
   "source": [
    "### Consumption"
   ]
  },
  {
   "cell_type": "code",
   "execution_count": 9,
   "metadata": {
    "code_folding": [
     0
    ]
   },
   "outputs": [
    {
     "data": {
      "text/plain": [
       "<seaborn.axisgrid.FacetGrid at 0x20fd82f8a30>"
      ]
     },
     "execution_count": 9,
     "metadata": {},
     "output_type": "execute_result"
    },
    {
     "data": {
      "image/png": "[encoded data removed]",
      "text/plain": [
       "<Figure size 875.4x432 with 6 Axes>"
      ]
     },
     "metadata": {},
     "output_type": "display_data"
    }
   ],
   "source": [
    "# Consumption\n",
    "g = sns.FacetGrid(\n",
    "    polfuncs[polfuncs.control == \"c\"],\n",
    "    col=\"$\\\\tilde{n}$\",\n",
    "    row=\"$\\\\Contr$\",\n",
    "    hue=\"model\",\n",
    "    height=3,\n",
    "    aspect=(7 / 3) * 1 / 3,\n",
    ")\n",
    "g.map(sns.lineplot, \"m\", \"value\", alpha=0.7)\n",
    "g.add_legend(bbox_to_anchor=[0.5, 0.0], ncol=4, title=\"\")\n",
    "g.set_axis_labels(\"$\\\\tilde{m}$\", \"Consumption: $c$\")"
   ]
  },
  {
   "cell_type": "markdown",
   "metadata": {},
   "source": [
    "## Simulation and average life-cycle profiles"
   ]
  },
  {
   "cell_type": "markdown",
   "metadata": {
    "lines_to_next_cell": 0
   },
   "source": [
    "With the policy functions, it is easy to simulate populations of agents. I now simulate many agents for every calibration to obtain the average lifetime profiles of relevant variables like consumption, income, and wealth in its different components."
   ]
  },
  {
   "cell_type": "code",
   "execution_count": null,
   "metadata": {
    "code_folding": [
     0
    ],
    "title": "Solve and simulate"
   },
   "outputs": [
    {
     "name": "stderr",
     "output_type": "stream",
     "text": [
      "C:\\GitHub\\HARK\\HARK\\core.py:863: RuntimeWarning: invalid value encountered in add\n",
      "  self.history[var_name] = np.empty((self.T_sim, self.AgentCount)) + np.nan\n"
     ]
    }
   ],
   "source": [
    "# Simulation\n",
    "\n",
    "n_agents = 100\n",
    "t_sim    = 200\n",
    "profiles = []\n",
    "for agent in agents:\n",
    "    agents[agent].AgentCount = n_agents\n",
    "    agents[agent].T_sim = t_sim\n",
    "    agents[agent].track_vars = ['pLvl','t_age','Adjust',\n",
    "                                'mNrm','nNrm','mNrmTilde','nNrmTilde','aNrm',\n",
    "                                'cNrm', 'Share', 'dfrac']\n",
    "    agents[agent].initialize_sim()\n",
    "    agents[agent].simulate()\n",
    "    profile = age_profiles(agents[agent])\n",
    "    profile['Model'] = agent\n",
    "    profiles.append(profile)"
   ]
  },
  {
   "cell_type": "code",
   "execution_count": null,
   "metadata": {
    "code_folding": [
     0
    ],
    "title": "Plot life-cycle means"
   },
   "outputs": [],
   "source": [
    "# Plot\n",
    "\n",
    "simdata = pd.concat(profiles)\n",
    "\n",
    "# Latex names\n",
    "simdata = simdata.rename(columns = {'pLvl': 'Perm. Income $P$',\n",
    "                 'Mtilde': 'Risk-free Assets $\\\\tilde{M}$',\n",
    "                 'Ntilde': 'Risky Assets $\\\\tilde{N}$',\n",
    "                 'C': 'Consumption  $C$',\n",
    "                 'StockShare': 'Risky Share of Savings',\n",
    "                 'Share': 'Deduct. Share $\\\\Contr$'})\n",
    "\n",
    "lc_means = pd.melt(simdata,\n",
    "                   id_vars = ['t_age', 'Model'],\n",
    "                   value_vars = ['Perm. Income $P$',\n",
    "                                 'Risk-free Assets $\\\\tilde{M}$',\n",
    "                                 'Risky Assets $\\\\tilde{N}$',\n",
    "                                 'Consumption  $C$',\n",
    "                                 'Risky Share of Savings','Deduct. Share $\\\\Contr$'])\n",
    "\n",
    "lc_means['Age'] = lc_means['t_age'] + 24\n",
    "\n",
    "# Drop the last year, as people's behavior is substantially different.\n",
    "lc_means = lc_means[lc_means['Age']<max(lc_means['Age'])]\n",
    "\n",
    "# General aesthetics\n",
    "sns.set_style(\"whitegrid\")\n",
    "sns.set_context(\"paper\", font_scale=1.5, rc={\"lines.linewidth\": 2.5})\n",
    "\n",
    "g = sns.FacetGrid(\n",
    "    lc_means,\n",
    "    col=\"variable\",\n",
    "    col_wrap = 3,\n",
    "    hue=\"Model\",\n",
    "    height=3,\n",
    "    aspect=(7 / 3) * 1 / 3,\n",
    "    sharey=False\n",
    ")\n",
    "g.map(sns.lineplot, \"Age\", \"value\", alpha=0.7)\n",
    "g.add_legend(bbox_to_anchor=[0.5, 0.0], ncol=4, title=\"\")\n",
    "g.set_axis_labels(\"Age\", \"\")\n",
    "g.set_titles(col_template = '{col_name}')"
   ]
  },
  {
   "cell_type": "markdown",
   "metadata": {},
   "source": [
    "# References\n",
    "\n",
    "(<a id=\"cit-Carroll1997qje\" href=\"#call-Carroll1997qje\">Carroll, 1997</a>) Carroll Christopher D., ``_Buffer-Stock Saving and the Life Cycle/Permanent Income Hypothesis*_'', The Quarterly Journal of Economics, vol. 112, number 1, pp. 1-55, 02 1997.  [online](https://doi.org/10.1162/003355397555109)\n",
    "\n",
    "(<a id=\"cit-Cagetti2003jbes\" href=\"#call-Cagetti2003jbes\">Cagetti, 2003</a>) Cagetti Marco, ``_Wealth Accumulation Over the Life Cycle and Precautionary Savings_'', Journal of Business \\& Economic Statistics, vol. 21, number 3, pp. 339-353,  2003.  [online](https://doi.org/10.1198/073500103288619007\n",
    "\n",
    ")\n",
    "\n",
    "(<a id=\"cit-Cocco2005rfs\" href=\"#call-Cocco2005rfs\">Cocco, Gomes <em>et al.</em>, 2005</a>) Cocco Jo\\~ao F., Gomes Francisco J. and Maenhout Pascal J., ``_Consumption and Portfolio Choice over the Life Cycle_'', The Review of Financial Studies, vol. 18, number 2, pp. 491-533, 02 2005.  [online](https://doi.org/10.1093/rfs/hhi017)\n",
    "\n",
    "(<a id=\"cit-Fagereng2017jof\" href=\"#call-Fagereng2017jof\">Fagereng, Gottlieb <em>et al.</em>, 2017</a>) Fagereng Andreas, Gottlieb Charles and Guiso Luigi, ``_Asset Market Participation and Portfolio Choice over the\n",
    "\tLife-Cycle_'', The Journal of Finance, vol. 72, number 2, pp. 705-750,  2017.  [online](https://onlinelibrary.wiley.com/doi/abs/10.1111/jofi.12484)\n",
    "\n",
    "(<a id=\"cit-Carroll1992bpea\" href=\"#call-Carroll1992bpea\">Carroll, 1992</a>) Carroll Christopher D., ``_The Buffer-Stock Theory of Saving: Some Macroeconomic Evidence_'', Brookings Papers on Economic Activity, vol. 1992, number 2, pp. 61--156,  1992.  [online](http://www.jstor.org/stable/2534582)\n",
    "\n",
    "(<a id=\"cit-Carroll1997jme\" href=\"#call-Carroll1997jme\">Carroll and Samwick, 1997</a>) Carroll Christopher D. and Samwick Andrew A., ``_The nature of precautionary wealth_'', Journal of Monetary Economics, vol. 40, number 1, pp. 41-71,  1997.  [online](https://www.sciencedirect.com/science/article/pii/S0304393297000366)\n",
    "\n",
    "(<a id=\"cit-Sabelhaus2010jme\" href=\"#call-Sabelhaus2010jme\">Sabelhaus and Song, 2010</a>) Sabelhaus John and Song Jae, ``_The great moderation in micro labor earnings_'', Journal of Monetary Economics, vol. 57, number 4, pp. 391-403,  2010.  [online](https://www.sciencedirect.com/science/article/pii/S0304393210000358)\n",
    "\n",
    "(<a id=\"cit-Giglio2021aer\" href=\"#call-Giglio2021aer\">Giglio, Maggiori <em>et al.</em>, 2021</a>) Giglio Stefano, Maggiori Matteo, Stroebel Johannes <em>et al.</em>, ``_Five Facts about Beliefs and Portfolios_'', American Economic Review, vol. 111, number 5, pp. 1481-1522, May 2021.  [online](https://www.aeaweb.org/articles?id=10.1257/aer.20200243)\n",
    "\n",
    "(<a id=\"cit-Luetticke2021aej_macro\" href=\"#call-Luetticke2021aej_macro\">Luetticke, 2021</a>) Luetticke Ralph, ``_Transmission of Monetary Policy with Heterogeneity in Household Portfolios_'', American Economic Journal: Macroeconomics, vol. 13, number 2, pp. 1-25, April 2021.  [online](https://www.aeaweb.org/articles?id=10.1257/mac.20190064)\n",
    "\n"
   ]
  }
 ],
 "metadata": {
  "jupytext": {
   "encoding": "# -*- coding: utf-8 -*-",
   "formats": "ipynb,py:percent",
   "notebook_metadata_filter": "all"
  },
  "kernelspec": {
   "display_name": "Python 3",
   "language": "python",
   "name": "python3"
  },
  "language_info": {
   "codemirror_mode": {
    "name": "ipython",
    "version": 3
   },
   "file_extension": ".py",
   "mimetype": "text/x-python",
   "name": "python",
   "nbconvert_exporter": "python",
   "pygments_lexer": "ipython3",
   "version": "3.8.8"
  },
  "latex_envs": {
   "LaTeX_envs_menu_present": true,
   "autoclose": false,
   "autocomplete": false,
   "bibliofile": "RiskyContrib-Add.bib",
   "cite_by": "apalike",
   "current_citInitial": 1,
   "eqLabelWithNumbers": true,
   "eqNumInitial": 1,
   "hotkeys": {
    "equation": "Ctrl-E",
    "itemize": "Ctrl-I"
   },
   "labels_anchors": false,
   "latex_user_defs": true,
   "report_style_numbering": false,
   "user_envs_cfg": false
  }
 },
 "nbformat": 4,
 "nbformat_minor": 4
}

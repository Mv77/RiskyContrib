{
 "cells": [
  {
   "cell_type": "markdown",
   "metadata": {},
   "source": [
    "# A Two-Asset Savings Model with an Income-Contribution Scheme\n",
    "\n",
    "## Mateo Velásquez-Giraldo\n",
    "\n",
    "This notebook demonstrates the use of the `RiskyContrib` agent type\n",
    "of the [Hark Toolkit](https://econ-ark.org/toolkit). The model represents an agent who can\n",
    "save using two different assets---one risky and the other risk-free---to insure\n",
    "against fluctuations in his income, but faces frictions to transferring funds between\n",
    "assets. The flexibility of its implementation and its inclusion in the HARK\n",
    "toolkit will allow users to adapt the model to realistic life-cycle calibrations, and\n",
    "also to embedded it in heterogeneous-agents macroeconomic models."
   ]
  },
  {
   "cell_type": "code",
   "execution_count": 1,
   "metadata": {
    "scrolled": true
   },
   "outputs": [
    {
     "name": "stderr",
     "output_type": "stream",
     "text": [
      "C:\\Users\\Mateo\\Anaconda3\\lib\\site-packages\\numpy\\_distributor_init.py:32: UserWarning: loaded more than 1 DLL from .libs:\n",
      "C:\\Users\\Mateo\\Anaconda3\\lib\\site-packages\\numpy\\.libs\\libopenblas.GK7GX5KEQ4F6UYO3P26ULGBQYHGQO7J4.gfortran-win_amd64.dll\n",
      "C:\\Users\\Mateo\\Anaconda3\\lib\\site-packages\\numpy\\.libs\\libopenblas.PYQHXLVVQ7VESDPUVUADXEVJOBGHJPAY.gfortran-win_amd64.dll\n",
      "  stacklevel=1)\n"
     ]
    }
   ],
   "source": [
    "# Preamble\n",
    "\n",
    "from HARK.ConsumptionSaving.ConsRiskyAssetModel import (\n",
    "    RiskyContribConsumerType,\n",
    "    init_risky_contrib_lifecycle,\n",
    ")\n",
    "from time import time\n",
    "from copy import copy\n",
    "\n",
    "import numpy as np\n",
    "import seaborn as sns\n",
    "import pandas as pd\n",
    "from Simulations.tools import pol_funcs_dframe, age_profiles\n",
    "import os\n",
    "\n",
    "# This is a jupytext paired notebook that autogenerates a .py file\n",
    "# which can be executed from a terminal command line\n",
    "# But a terminal does not permit inline figures, so we need to test jupyter vs terminal\n",
    "# Google \"how can I check if code is executed in the ipython notebook\"\n",
    "from IPython import get_ipython # In case it was run from python instead of ipython\n",
    "\n",
    "# If the ipython process contains 'terminal' assume not in a notebook\n",
    "def in_ipynb():\n",
    "    try:\n",
    "        if 'terminal' in str(type(get_ipython())):\n",
    "            return False\n",
    "        else:\n",
    "            return True\n",
    "    except NameError:\n",
    "        return False\n",
    "    \n",
    "# Determine whether to make the figures inline (for spyder or jupyter)\n",
    "# vs whatever is the automatic setting that will apply if run from the terminal\n",
    "if in_ipynb():\n",
    "    # %matplotlib inline generates a syntax error when run from the shell\n",
    "    # so do this instead\n",
    "    get_ipython().run_line_magic('matplotlib', 'inline')\n",
    "else:\n",
    "    get_ipython().run_line_magic('matplotlib', 'auto')"
   ]
  },
  {
   "cell_type": "markdown",
   "metadata": {},
   "source": [
    "## Model Description"
   ]
  },
  {
   "cell_type": "markdown",
   "metadata": {},
   "source": [
    "## Parametrizations"
   ]
  },
  {
   "cell_type": "code",
   "execution_count": 2,
   "metadata": {},
   "outputs": [],
   "source": [
    "# %% Base parametrization\n",
    "\n",
    "# Make the problem life-cycle\n",
    "par_LC_base = init_risky_contrib_lifecycle.copy()\n",
    "\n",
    "# Turn off aggregate growth\n",
    "par_LC_base['PermGroFacAgg'] = 1.0\n",
    "\n",
    "# and frictionless to start\n",
    "par_LC_base[\"AdjustPrb\"] = 1.0\n",
    "par_LC_base[\"tau\"] = 0.0\n",
    "\n",
    "# Make contribution shares a continuous choice\n",
    "par_LC_base[\"DiscreteShareBool\"] = False\n",
    "par_LC_base[\"vFuncBool\"] = False\n",
    "\n",
    "# Temporarily make grids sparser\n",
    "par_LC_base.update(\n",
    "    {\"aXtraCount\": 30, \"mNrmCount\": 30, \"nNrmCount\": 30,\n",
    "     \"mNrmMax\": 500, \"nNrmMax\":500}\n",
    ")\n",
    "\n",
    "# %% A version with the tax\n",
    "par_LC_tax = copy(par_LC_base)\n",
    "par_LC_tax[\"tau\"] = 0.1\n",
    "\n",
    "# %% A version with the Calvo friction\n",
    "par_LC_calvo = copy(par_LC_base)\n",
    "par_LC_calvo[\"AdjustPrb\"] = 0.25\n",
    "\n",
    "# %% A calibration with a probability and tax that change at retirement\n",
    "par_LC_retirement = copy(par_LC_base)\n",
    "par_LC_retirement[\"AdjustPrb\"] = [1.0] + [0.0]*39 + [1.0]*25\n",
    "par_LC_retirement[\"tau\"] = [0.0]*41 + [0.0]*24\n",
    "par_LC_retirement[\"UnempPrb\"] = 0.0"
   ]
  },
  {
   "cell_type": "markdown",
   "metadata": {},
   "source": [
    "# Solution and policy functions"
   ]
  },
  {
   "cell_type": "code",
   "execution_count": null,
   "metadata": {},
   "outputs": [
    {
     "name": "stdout",
     "output_type": "stream",
     "text": [
      "Now solving Base\n",
      "Finished cycle #1 of 1 in 56.16043472290039 seconds.\n",
      "Solving Base took 56.16043472290039 seconds.\n",
      "Now solving Tax\n",
      "Finished cycle #1 of 1 in 104.17610788345337 seconds.\n",
      "Solving Tax took 104.18441319465637 seconds.\n",
      "Now solving Calvo\n"
     ]
    }
   ],
   "source": [
    "# %% Create and solve agents with all the parametrizations\n",
    "agents = {\n",
    "    \"Base\": RiskyContribConsumerType(**par_LC_base),\n",
    "    \"Tax\": RiskyContribConsumerType(**par_LC_tax),\n",
    "    \"Calvo\": RiskyContribConsumerType(**par_LC_calvo),\n",
    "    \"Retirement\": RiskyContribConsumerType(**par_LC_retirement),\n",
    "}\n",
    "\n",
    "for agent in agents:\n",
    "\n",
    "    print(\"Now solving \" + agent)\n",
    "    t0 = time()\n",
    "    agents[agent].solve(verbose=True)\n",
    "    t1 = time()\n",
    "    print(\"Solving \" + agent + \" took \" + str(t1 - t0) + \" seconds.\")\n"
   ]
  },
  {
   "cell_type": "markdown",
   "metadata": {},
   "source": [
    "## Simulation and average life-cycle profiles"
   ]
  },
  {
   "cell_type": "code",
   "execution_count": null,
   "metadata": {},
   "outputs": [],
   "source": [
    "# %% Solve and simulate\n",
    "n_agents = 10\n",
    "t_sim    = 500\n",
    "profiles = []\n",
    "for agent in agents:\n",
    "    agents[agent].AgentCount = n_agents\n",
    "    agents[agent].T_sim = t_sim\n",
    "    agents[agent].track_vars = ['pLvl','t_age','Adjust',\n",
    "                                'mNrm','nNrm','mNrmTilde','nNrmTilde','aNrm',\n",
    "                                'cNrm', 'Share', 'DNrm']\n",
    "    agents[agent].initialize_sim()\n",
    "    agents[agent].simulate()\n",
    "    profile = age_profiles(agents[agent])\n",
    "    profile['Model'] = agent\n",
    "    profiles.append(profile)\n",
    "\n",
    "# %% Hark plot setup\n",
    "from HARK.utilities import (\n",
    "    determine_platform,\n",
    "    test_latex_installation,\n",
    "    setup_latex_env_notebook,\n",
    ")\n",
    "\n",
    "pf = determine_platform()\n",
    "try:\n",
    "    latexExists = test_latex_installation(pf)\n",
    "except ImportError:  # windows and MacOS requires manual install\n",
    "    latexExists = False\n",
    "\n",
    "setup_latex_env_notebook(pf, latexExists)\n",
    "\n",
    "# Whether to save the figures to Figures_dir\n",
    "saveFigs = True\n",
    "\n",
    "# Whether to draw the figures\n",
    "drawFigs = True\n",
    "\n",
    "# %% Plot life-cycle means\n",
    "\n",
    "simdata = pd.concat(profiles)\n",
    "\n",
    "# Latex names\n",
    "simdata = simdata.rename(columns = {'pLvl': 'Perm. Income $P$',\n",
    "                 'Mtilde': 'Risk-free Assets $\\\\tilde{M}$',\n",
    "                 'Ntilde': 'Risky Assets $\\\\tilde{N}$',\n",
    "                 'C': 'Consumption  $C$',\n",
    "                 'StockShare': 'Risky Share of Savings',\n",
    "                 'Share': 'Deduct. Share $\\\\Contr$'})\n",
    "\n",
    "lc_means = pd.melt(simdata,\n",
    "                   id_vars = ['t_age', 'Model'],\n",
    "                   value_vars = ['Perm. Income $P$',\n",
    "                                 'Risk-free Assets $\\\\tilde{M}$',\n",
    "                                 'Risky Assets $\\\\tilde{N}$',\n",
    "                                 'Consumption  $C$',\n",
    "                                 'Risky Share of Savings','Deduct. Share $\\\\Contr$'])\n",
    "\n",
    "lc_means['Age'] = lc_means['t_age'] + 24\n",
    "\n",
    "# Drop the last year, as people's behavior is substantially different.\n",
    "lc_means = lc_means[lc_means['Age']<max(lc_means['Age'])]\n",
    "\n",
    "# General aesthetics\n",
    "sns.set_style(\"whitegrid\")\n",
    "sns.set_context(\"paper\", font_scale=1.5, rc={\"lines.linewidth\": 2.5})\n",
    "\n",
    "g = sns.FacetGrid(\n",
    "    lc_means,\n",
    "    col=\"variable\",\n",
    "    col_wrap = 3,\n",
    "    hue=\"Model\",\n",
    "    height=3,\n",
    "    aspect=(7 / 3) * 1 / 3,\n",
    "    sharey=False\n",
    ")\n",
    "g.map(sns.lineplot, \"Age\", \"value\", alpha=0.7)\n",
    "g.add_legend(bbox_to_anchor=[0.5, 0.0], ncol=4, title=\"\")\n",
    "g.set_axis_labels(\"Age\", \"\")\n",
    "g.set_titles(col_template = '{col_name}')"
   ]
  }
 ],
 "metadata": {
  "jupytext": {
   "encoding": "# -*- coding: utf-8 -*-",
   "formats": "ipynb,py:percent",
   "notebook_metadata_filter": "all"
  },
  "kernelspec": {
   "display_name": "Python 3",
   "language": "python",
   "name": "python3"
  },
  "language_info": {
   "codemirror_mode": {
    "name": "ipython",
    "version": 3
   },
   "file_extension": ".py",
   "mimetype": "text/x-python",
   "name": "python",
   "nbconvert_exporter": "python",
   "pygments_lexer": "ipython3",
   "version": "3.7.9"
  },
  "latex_envs": {
   "LaTeX_envs_menu_present": true,
   "autoclose": false,
   "autocomplete": true,
   "bibliofile": "biblio.bib",
   "cite_by": "apalike",
   "current_citInitial": 1,
   "eqLabelWithNumbers": true,
   "eqNumInitial": 1,
   "hotkeys": {
    "equation": "Ctrl-E",
    "itemize": "Ctrl-I"
   },
   "labels_anchors": false,
   "latex_user_defs": false,
   "report_style_numbering": false,
   "user_envs_cfg": false
  }
 },
 "nbformat": 4,
 "nbformat_minor": 4
}

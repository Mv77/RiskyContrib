{
 "cells": [
  {
   "cell_type": "markdown",
   "metadata": {},
   "source": [
    " # Cocco, Gomes, & Maenhout (2005)\n",
    "\n",
    " # \"[Consumption and Portfolio Choice Over the Life Cycle](https://academic.oup.com/rfs/article-abstract/18/2/491/1599892)\"\n",
    "\n",
    " - Notebook created by [Mateo Velásquez-Giraldo](https://github.com/Mv77) and [Matthew Zahn](https://sites.google.com/view/matthew-v-zahn/matthew-v-zahn).\n",
    "\n",
    "This notebook uses the [Econ-ARK/HARK](https://github.com/econ-ark/hark) toolkit to describe the main results and reproduce the figures in the linked paper. The main HARK tool used here is the $\\texttt{PortfolioConsumerType}$ class. For an introduction to this module, see the [HARK's Documentation](https://hark.readthedocs.io/en/latest/).\n",
    "\n",
    "Our results using the HARK toolkit resemble those of the original paper, but we have not been able to replicate its results exactly for reasons that we have not been able to track down. We suspect there might be subtleties in the normalization or calibration that we have missed and that could be causing the discrepancies. We would be thankful if a reader (or the original authors) were able to discover the reason for the discrepancies, and could issue a pull request for a revision that reconciles them.\n",
    "\n",
    "We thank Chris Carroll and Sylvain Catherine for comments and guidance."
   ]
  },
  {
   "cell_type": "code",
   "execution_count": 1,
   "metadata": {},
   "outputs": [
    {
     "name": "stderr",
     "output_type": "stream",
     "text": [
      "C:\\Users\\Mateo\\Anaconda3\\lib\\site-packages\\numpy\\_distributor_init.py:32: UserWarning: loaded more than 1 DLL from .libs:\n",
      "C:\\Users\\Mateo\\Anaconda3\\lib\\site-packages\\numpy\\.libs\\libopenblas.GK7GX5KEQ4F6UYO3P26ULGBQYHGQO7J4.gfortran-win_amd64.dll\n",
      "C:\\Users\\Mateo\\Anaconda3\\lib\\site-packages\\numpy\\.libs\\libopenblas.PYQHXLVVQ7VESDPUVUADXEVJOBGHJPAY.gfortran-win_amd64.dll\n",
      "  stacklevel=1)\n"
     ]
    }
   ],
   "source": [
    "# This cell does some preliminary set up\n",
    "\n",
    "# Packages\n",
    "import matplotlib.pyplot as plt\n",
    "import numpy as np\n",
    "import pandas as pd\n",
    "\n",
    "# Import relevenat HARK tools\n",
    "import HARK.ConsumptionSaving.ConsPortfolioModel as cpm\n",
    "\n",
    "# This is a jupytext paired notebook that autogenerates BufferStockTheory.py\n",
    "# which can be executed from a terminal command line via \"ipython BufferStockTheory.py\"\n",
    "# But a terminal does not permit inline figures, so we need to test jupyter vs terminal\n",
    "# Google \"how can I check if code is executed in the ipython notebook\"\n",
    "from IPython import get_ipython # In case it was run from python instead of ipython\n",
    "\n",
    "# If the ipython process contains 'terminal' assume not in a notebook\n",
    "def in_ipynb():\n",
    "    try:\n",
    "        if 'terminal' in str(type(get_ipython())):\n",
    "            return False\n",
    "        else:\n",
    "            return True\n",
    "    except NameError:\n",
    "        return False\n",
    "    \n",
    "# Determine whether to make the figures inline (for spyder or jupyter)\n",
    "# vs whatever is the automatic setting that will apply if run from the terminal\n",
    "if in_ipynb():\n",
    "    # %matplotlib inline generates a syntax error when run from the shell\n",
    "    # so do this instead\n",
    "    get_ipython().run_line_magic('matplotlib', 'inline')\n",
    "else:\n",
    "    get_ipython().run_line_magic('matplotlib', 'auto')"
   ]
  },
  {
   "cell_type": "markdown",
   "metadata": {},
   "source": [
    "### The base model\n",
    "\n",
    "The authors' aim is to represent the life cycle of a consumer that is exposed to uninsurable labor income risk and how he chooses to allocate his savings between a risky and a safe asset, without the possibility to borrow or short-sell.\n",
    "\n",
    "##### Dynamic problem\n",
    "\n",
    "The problem of an agent $i$ of age $t$ in the base model is recursively represented as\n",
    "\n",
    "\\begin{split}\n",
    "V_{i,t} =& \\max_{0\\leq C_{i,t} \\leq X_{i,t}, \\alpha_{i,t}\\in[0,1]} U(C_{i,t}) + \\delta p_t E_t\\{ V_{i,t+1} (X_{i,t+1}) \\}\\\\\n",
    "&\\text{s.t}\\\\\n",
    "&X_{i,t+1} = Y_{i,t+1} + (X_{i,t} - C_{i,t})(\\alpha_{i,t} R_{t+1} + (1-\\alpha_{i,t})\\bar{R}_f)\n",
    "\\end{split}\n",
    "\n",
    "where $C_{i,t}$ is consumption, $\\alpha_{i,t}$ is the share of savings allocated to the risky asset, $Y_{i,t}$ is labor income, and $X_{i,t}$ represents wealth. The utility function $U(\\cdot)$ is assumed to be CRRA in the base model. Extensions beyond the baseline model include an additively separable bequest motive in the utility function. The discount factor is $\\delta$ and $p_t$ is the probability of survival from $t$ to $t+1$. Death is certain at a maximum period $T$.\n",
    "\n",
    "Note that the consumer cannot borrow or short-sell.\n",
    "\n",
    "The control variables in the problem are $\\{C_{it}, \\alpha_{it}\\}^T_{t=1}$ and the state variables are $\\{t, X_{it}, v_{it} \\}^T_{t=1}$. The agent solves for  policy rules as a function of the state variables&mdash;$C_{it}(X_{it}, v_{it})$ and $\\alpha_{it}(X_{it}, v_{it})$.\n",
    "\n",
    "#### Labor income\n",
    "\n",
    "An important driver of the paper's results is the labor income process. It is specified as follows:\n",
    "\n",
    "\\begin{equation}\n",
    "\\log Y_{i,t} = f(t,Z_{i,t}) + v_{i,t} + \\epsilon_{i,t}, \\quad \\text{for } t\\leq K.\n",
    "\\end{equation}\n",
    "\n",
    "where $K$ is the (exogenous) age of retirement, $Z_{i,t}$ are demographic characteristics, $\\epsilon_{i,t}\\sim \\mathcal{N}(0,\\sigma^2_\\epsilon)$ is a transitory shock, and  $v_{i,t}$ is a permanent component following a random walk\n",
    "\n",
    "\\begin{equation}\n",
    "v_{i,t} = v_{i,t-1} + u_{i,t} = v_{i,t-1} + \\xi_t + \\omega_{i,t}\n",
    "\\end{equation}\n",
    "\n",
    "in which the innovation is decomposed into an aggregate ($\\xi_t$) and an idiosyncratic component ($\\omega_{i,t}$), both following mean-0 normal distributions.\n",
    "\n",
    "Post-retirement income is a constant fraction $\\lambda$ of permanent income in the last working year $K$.\n",
    "\n",
    "A crucial aspect of the labor income process is that $f(\\cdot,\\cdot)$ is calibrated to match income profiles in the PSID, capturing the usual humped shape of income across lifetime.\n",
    "\n",
    "#### Matching labor income in HARK\n",
    "\n",
    "In HARK's consumption-saving models, the income process takes the form\n",
    "\\begin{equation}\n",
    "    \\ln Y_t = \\ln P_t + \\ln \\theta_t\n",
    "\\end{equation}\n",
    "where $P_t$ represents permanent income and $\\ln \\theta_t \\sim N(0,\\sigma_\\theta)$ transitory shocks to income. Permanent income evolves according to\n",
    "\\begin{equation}\n",
    "    \\ln P_{t+1} = \\ln \\Gamma_{t+1} +  \\ln \\psi_{t+1} + \\ln P_t\n",
    "\\end{equation}\n",
    "where $\\Gamma_{t+1}$ is a deterministic growth factor, and $\\ln \\psi_{t+1} \\sim N(0,\\sigma_\\psi)$ a permanent income shock. \n",
    "\n",
    "\n",
    "To represent the author's assumptions in HARK, we express both income processes as sums of deterministic components and i.i.d shocks\n",
    "\\begin{align}\n",
    "\\text{Cocco et. al} &\\quad& \\ln Y_{i,t} &=& f(t,Z_{i,t}) + v_{i,0} &+&\\sum_{k=1}^t u_{i,k} &+&\\qquad \\varepsilon_{i,t} \\\\\n",
    "\\text{HARK}        &\\quad& \\ln Y_{i,t} &=& \\ln P_{i,0} + \\sum_{k=1}^t \\ln \\Gamma_k &+&\\sum_{k=1}^t \\ln \\psi_{i,k} &+& \\qquad \\ln \\theta_{i,t}.\n",
    "\\end{align}\n",
    "\n",
    "These representations make evident the mapping that we use\n",
    "\n",
    "|HARK | Cocco et. al |\n",
    "| :---: | :-----------: |\n",
    "| $\\ln$ $P_{i,0}$ | $f(0,Z_{i,0})$ + $v_{i,0}$ |\n",
    "| $\\ln$ $\\Gamma_{t+1}$| $f(t+1$, $Z_{i,t+1})$ - $f(t,Z_{i,t})$|\n",
    "|$\\ln$ $\\psi_{i,k}$| $u_{i,k}$|\n",
    "|$\\ln$ $\\theta_{i,t}$| $\\varepsilon_{i,t}$|\n",
    "\n",
    "and to achieve a retirement income that is equal to a fraction $\\lambda$ of permanent income in the last working period $K$, we simply make $\\Gamma_{K+1} = \\lambda$ and $\\Gamma_{t} = 1$ $\\forall t>K+1$.\n",
    "\n",
    "#### Assets and their returns\n",
    "\n",
    "There are two assets available for consumers to allocate their savings.\n",
    "\n",
    "- Bonds: paying a risk-free return $\\bar{R}_f$.\n",
    "\n",
    "- Stocks: paying a stochastic return $R_t = \\bar{R}_f + \\mu + \\eta_t$, where the stochastic component $\\eta_t \\sim \\mathcal{N}(0, \\sigma^2_\\eta)$ is allowed to be correlated with the aggregate labor income innovation $\\xi_t$.\n",
    "\n",
    "The borrowing and short-selling constraints ensure that agents cannot allocate negative dollars to either of these assets or borrow against future labor income or retirement wealth. Recall $\\alpha_{i,t}$ is the proportion of the investor's savings that are invested in the risky asset. The model's constraints imply that $\\alpha_{i,t}\\in[0,1]$ and wealth is non-negative.\n",
    "\n",
    "\n",
    "### Calibration&mdash;Summary\n",
    "\n",
    "The paper defines and calibrates several parameters which can be broken down into the following categories:\n",
    "\n",
    "__1. Preferences and life cycle__\n",
    "\n",
    " | Parameter | Description | Code | Value |\n",
    " |:---:| ---         | ---  | :---: |\n",
    " | $\\delta$ | Time Preference Factor | $\\texttt{DiscFac}$ | 0.96 |\n",
    " | $\\gamma$ | Coefficient of Relative Risk Aversion| $\\texttt{CRRA}$ | 10 |\n",
    " | $p_t$ | Survival Probability | $\\texttt{LivPrb}$ | [0.6809,0.99845] |\n",
    " | $t_0$ | Starting Age | $\\texttt{t_start}$ | 20 |\n",
    " | $t_r$ | Retirement Age | $\\texttt{t_ret}$ | 65 |\n",
    " | $T$ | Maximum Age | $\\texttt{t_end}$ | 100 |\n",
    "\n",
    "__2. Income process and the finanical assets__\n",
    "\n",
    " | Parameter | Description | Code | Value|\n",
    " |:---:| ---         | ---  | :---: |\n",
    " | $f(t,Z_{i,t})$| Average income at each stage of life | $\\texttt{det_income}$ | $ \\exp($0.530339 + 0.16818 $t$+ (0.0323371/10) $t^2$ + (0.0019704/100) $t^3)$ |\n",
    " | $\\lambda$ | Last Period Labor Income Share for Retirement | $\\texttt{repl_fac}$ | 0.68212 |\n",
    " | $\\log \\Gamma$ | Permanent Income Growth Factor | $\\texttt{PermGroFac}$ | $\\{\\log f_{t+1} - \\log f_t\\}^{t_r+1}_{t=20}$ |\n",
    " | $\\mathsf{R}$ | Interest Factor | $\\texttt{Rfree}$ | 1.02 |\n",
    " | $\\mu$ | Average Stock Return | $\\texttt{RiskyDstnFunc}$ \\& $\\texttt{RiskyDrawFunc}$ | 1.06 |\n",
    " | $\\sigma_\\eta$ | Std Dev of Stock Returns | $\\texttt{RiskyDstnFunc}$ \\& $\\texttt{RiskyDrawFunc}$ | 0.157 |\n",
    "\n",
    "\n",
    "__3. Shocks__\n",
    "\n",
    " | Parameter | Description | Code | Value |\n",
    " |:---:| ---         | ---  | :---: |\n",
    " | $\\sigma_v$ | Std Dev of Log Permanent Shock| $\\texttt{PermShkStd}$ | 0.102956 |\n",
    " | $\\sigma_\\epsilon$ | Std Dev of Log Transitory Shock| $\\texttt{TranShkStd}$ | 0.27166 |\n",
    "\n",
    "\n",
    "For reference, the authors' source Fortran code that includes these paramerization details is available on [Gomes' personal page](http://faculty.london.edu/fgomes/research.html). Code that solves the model is also available in [Julia](https://github.com/econ-ark/HARK/issues/114#issuecomment-371891418)."
   ]
  },
  {
   "cell_type": "markdown",
   "metadata": {},
   "source": [
    "### Calibration in our implementation.\n",
    "\n",
    "We replicate the previously defined parameter values and transition processes for state variables and shocks, and format them into the structures required by HARK.\n",
    "\n",
    "This is done in the external file [Calibration/params.py](https://github.com/matthew-zahn/CGMPort/blob/master/CGMPort-Shared/Code/Python/Calibration/params.py), which we now import."
   ]
  },
  {
   "cell_type": "code",
   "execution_count": 2,
   "metadata": {
    "lines_to_next_cell": 2
   },
   "outputs": [],
   "source": [
    "# Calibrate the model in line with the information above\n",
    "import sys,os\n",
    "# The following code navigates to another directory where a python script with the parameters for the model is saved.\n",
    "sys.path.append(os.path.realpath('Calibration/')) \n",
    "# Loading the parameters from the Calibration/params.py script\n",
    "from params import dict_portfolio, time_params, det_income, age_plot_params"
   ]
  },
  {
   "cell_type": "markdown",
   "metadata": {},
   "source": [
    "All of the model's parameters are contained in the structure <tt>dict_portfolio<tt>, which can now be passed to HARK's <tt>PortfolioConsumerType<tt> to build and solve a representation of our problem.  "
   ]
  },
  {
   "cell_type": "code",
   "execution_count": 3,
   "metadata": {},
   "outputs": [],
   "source": [
    "# Solve the model with the given parameters\n",
    "agent = cpm.PortfolioConsumerType(**dict_portfolio)\n",
    "agent.solve()"
   ]
  },
  {
   "cell_type": "markdown",
   "metadata": {},
   "source": [
    "### A note on normalization\n",
    "\n",
    "The problem as specified above makes the value function homogeneous with respect to permanent labor income. This is convenient as it allows for a re-statement of the problem in variables that are normalized by permanent income or its random components, eliminating a state variable.\n",
    "\n",
    "The authors report (page 497) taking the normalization $v_{i,t} = 1$. This amounts to defining normalized variables $\\tilde{\\cdot}$ as the original variable divided by $e^{v_{i,t}-1}$. For instance:\n",
    "\n",
    "\\begin{equation}\n",
    "\\tilde{Y_{i,t}} = \\frac{Y_{i,t}}{\\exp(v_{i,t}-1)} = \\frac{\\exp (f(t,Z_{i,t}) + v_{i,t} + \\varepsilon_{i,t})}{\\exp(v_{i,t}-1)} = \\exp( f(t,Z_{i,t}) + 1 + \\varepsilon_{i,t} )\n",
    "\\end{equation}\n",
    "\n",
    "These normalized variables have the convenient interpretation of the state that things would be in if, it weren't for permanent shocks. The author's depictions of policy functions are presented in terms of these normalized variables.\n",
    "\n",
    "On the other hand, HARK normalizes the problem by total permanent income $P_t = \\exp (f(t,Z_{i,t}) + v_{i,t})$ and its solution objects are therefore in terms of normalized variables $\\hat{\\cdot}$, defined as\n",
    "\\begin{equation}\n",
    "\\hat{X_{i,t}} = \\frac{X_{i,t}}{P_{i,t}} = \\frac{X_{i,t}}{\\exp (f(t,Z_{i,t}) + v_{i,t})}.\n",
    "\\end{equation}\n",
    "\n",
    "Therefore, to present our results in a way consistent with that of the original authors, we would use the following relationship\n",
    "\\begin{equation}\n",
    "\\tilde{X_{i,t}} = \\hat{X_{i,t}} \\times \\exp (f(t,Z_{i,t})+1)\n",
    "\\end{equation}\n",
    "\n",
    "However, our results are much more consistent with those of the original authors when we take the normalization $v_{i,t} = 0$, which also make sense since it makes the random-walk multiplicative part of permanent income $\\exp{v_{i,t}}=1$. We therefore assume this is a typo, take $v_{i,t} = 0$, document this issue in the \\textbf{Puzzles} section below, and use the relationship\n",
    "\\begin{equation}\n",
    "\\tilde{X_{i,t}} = \\hat{X_{i,t}} \\times \\exp (f(t,Z_{i,t})).\n",
    "\\end{equation}\n",
    "\n",
    "The next cell defines our normalization factor"
   ]
  },
  {
   "cell_type": "code",
   "execution_count": 4,
   "metadata": {},
   "outputs": [],
   "source": [
    "# Define a normalization factor\n",
    "norm_factor = det_income*np.exp(0)"
   ]
  },
  {
   "cell_type": "markdown",
   "metadata": {},
   "source": [
    "### Key Results\n",
    "\n",
    "#### The optimal risky asset share\n",
    "\n",
    "The plot below shows the policy function for the risky portfolio share as a function of wealth at different ages.\n",
    "\n",
    "The optimal risky share is decreasing in wealth. The authors argue this is due to the fact that, at low levels of wealth, relatively safe human wealth represents a higher fraction of the consumer's wealth, so he shifts his tradeable wealth towards riskier alternatives.\n",
    "\n",
    "Analyzing the policy rule by age also shows that the risky share increases from young to middle age, and decreases from middle to old age. This is consistent with the previous interpretation: shares trace the humped shape of labor earnings.\n",
    "\n",
    "These estimates are different from what is produced in the original paper, which are also reproduced below. Generally, the policy functions do not share the same curvature, which leads to greater reductions in the optimal portfolio share at lower levels of wealth."
   ]
  },
  {
   "cell_type": "code",
   "execution_count": 5,
   "metadata": {},
   "outputs": [
    {
     "data": {
      "image/png": "[encoded data removed]",
      "text/plain": [
       "<Figure size 432x288 with 1 Axes>"
      ]
     },
     "metadata": {
      "needs_background": "light"
     },
     "output_type": "display_data"
    }
   ],
   "source": [
    "# Plot portfolio rule\n",
    "eevalgrid = np.linspace(0,300,100)\n",
    "plt.figure()\n",
    "# In the last period of life you consume everything\n",
    "# so portfolio choice is irrelevant\n",
    "\n",
    "# Ages\n",
    "ages = age_plot_params\n",
    "age_born = time_params['Age_born']\n",
    "for a in ages:\n",
    "    plt.plot(eevalgrid,\n",
    "             agent.solution[a-age_born].ShareFuncAdj(eevalgrid/norm_factor[a-age_born]),\n",
    "             label = 'Age = %i' %(a))\n",
    "plt.xlabel('Wealth')\n",
    "plt.ylabel('Risky portfolio share')\n",
    "plt.title('Risky Portfolio Policy Function')\n",
    "plt.legend()\n",
    "plt.grid()\n",
    "\n",
    "if not in_ipynb():\n",
    "    plt.show(block=False) \n",
    "    plt.pause(1)\n",
    "else:\n",
    "    plt.show(block=True)"
   ]
  },
  {
   "cell_type": "markdown",
   "metadata": {},
   "source": [
    "We present the author's originally reported policy functions for comparison\n",
    "<center><img src=\"Figures\\Opt_shares_by_age.jpg\" style=\"height:300px\"></center>"
   ]
  },
  {
   "cell_type": "markdown",
   "metadata": {},
   "source": [
    "#### Consumption behavior\n",
    "\n",
    "The plot below shows the policy function for consumption as a function of wealth at different ages.\n",
    "\n",
    "At all age levels consumption increases with wealth. The consumption function also appears to shift upwards as life progresses.\n",
    "\n",
    "Our consumption policy functions again do not match those of the original paper, which are also reproduced below. Consumption also appears to increase with age in our policy functions that does not come through in the results presented in the paper. "
   ]
  },
  {
   "cell_type": "code",
   "execution_count": 6,
   "metadata": {},
   "outputs": [
    {
     "data": {
      "image/png": "[encoded data removed]",
      "text/plain": [
       "<Figure size 432x288 with 1 Axes>"
      ]
     },
     "metadata": {
      "needs_background": "light"
     },
     "output_type": "display_data"
    }
   ],
   "source": [
    "# Plot consumption function\n",
    "plt.figure()\n",
    "ages = age_plot_params\n",
    "for a in ages:\n",
    "    plt.plot(eevalgrid,\n",
    "             agent.solution[a-age_born].cFuncAdj(eevalgrid/norm_factor[a-age_born])*norm_factor[a-age_born],\n",
    "             label = 'Age = %i' %(a))\n",
    "plt.xlabel('Wealth')\n",
    "plt.ylabel('Consumption')\n",
    "plt.title('Consumption Policy Function')\n",
    "plt.legend()\n",
    "plt.grid()\n",
    "\n",
    "if not in_ipynb():\n",
    "    plt.show(block=False) \n",
    "    plt.pause(1)\n",
    "else:\n",
    "    plt.show(block=True)"
   ]
  },
  {
   "cell_type": "markdown",
   "metadata": {},
   "source": [
    "We again present the author's originally reported policy functions for comparison\n",
    "<center><img src=\"Figures\\Opt_cons_by_age.jpg\" style=\"height:300px\"></center>"
   ]
  },
  {
   "cell_type": "markdown",
   "metadata": {},
   "source": [
    "### Simulations\n",
    "\n",
    "Using the policy functions obtained from solving the model we present a series of simulations to highlight features of the model.\n",
    "\n",
    "We first run a few simulations to verify the quality of our calibration.\n",
    "\n",
    "The figures below show simulated levels of permanent income and risky portfolio shares for 5 agents over their life spans. We can see the model generates a heterogeneous permanent income distribution. Interestingly, all of these agents tend to follow the same general pattern for investing in the risky asset. Early in life, all of their portfolios are invested in the risky asset. This declines as the agent ages and converges to approximately 35% once they reach retirement."
   ]
  },
  {
   "cell_type": "code",
   "execution_count": 7,
   "metadata": {
    "title": "A Simulation"
   },
   "outputs": [
    {
     "ename": "AttributeError",
     "evalue": "'PortfolioConsumerType' object has no attribute 'initializeSim'",
     "output_type": "error",
     "traceback": [
      "\u001b[1;31m---------------------------------------------------------------------------\u001b[0m",
      "\u001b[1;31mAttributeError\u001b[0m                            Traceback (most recent call last)",
      "\u001b[1;32m<ipython-input-7-2a23c60cd8d2>\u001b[0m in \u001b[0;36m<module>\u001b[1;34m\u001b[0m\n\u001b[0;32m     12\u001b[0m \u001b[1;33m\u001b[0m\u001b[0m\n\u001b[0;32m     13\u001b[0m \u001b[1;31m# Run the simulations\u001b[0m\u001b[1;33m\u001b[0m\u001b[1;33m\u001b[0m\u001b[1;33m\u001b[0m\u001b[0m\n\u001b[1;32m---> 14\u001b[1;33m \u001b[0magent\u001b[0m\u001b[1;33m.\u001b[0m\u001b[0minitializeSim\u001b[0m\u001b[1;33m(\u001b[0m\u001b[1;33m)\u001b[0m\u001b[1;33m\u001b[0m\u001b[1;33m\u001b[0m\u001b[0m\n\u001b[0m\u001b[0;32m     15\u001b[0m \u001b[0magent\u001b[0m\u001b[1;33m.\u001b[0m\u001b[0msimulate\u001b[0m\u001b[1;33m(\u001b[0m\u001b[1;33m)\u001b[0m\u001b[1;33m\u001b[0m\u001b[1;33m\u001b[0m\u001b[0m\n\u001b[0;32m     16\u001b[0m \u001b[1;33m\u001b[0m\u001b[0m\n",
      "\u001b[1;31mAttributeError\u001b[0m: 'PortfolioConsumerType' object has no attribute 'initializeSim'"
     ]
    }
   ],
   "source": [
    "# Set up simulation parameters\n",
    "\n",
    "# Number of agents and periods in the simulation.\n",
    "agent.AgentCount = 5 # Number of instances of the class to be simulated.\n",
    "# Since agents can die, they are replaced by a new agent whenever they do.\n",
    "\n",
    "# Number of periods to be simulated\n",
    "agent.T_sim = 80\n",
    "\n",
    "# Set up the variables we want to keep track of.\n",
    "agent.track_vars = ['aNrmNow','cNrmNow', 'pLvlNow', 't_age', 'ShareNow','mNrmNow']\n",
    "\n",
    "# Run the simulations\n",
    "agent.initializeSim()\n",
    "agent.simulate()\n",
    "\n",
    "# Present diagnostic plots.\n",
    "plt.figure()\n",
    "plt.plot(agent.history['t_age']+time_params['Age_born'], agent.history['pLvlNow'],'.')\n",
    "plt.xlabel('Age')\n",
    "plt.ylabel('Permanent income')\n",
    "plt.title('Simulated Income Paths')\n",
    "plt.grid()\n",
    "\n",
    "if not in_ipynb():\n",
    "    plt.show(block=False) \n",
    "    plt.pause(1)\n",
    "else:\n",
    "    plt.show(block=True)\n",
    "\n",
    "plt.figure()\n",
    "plt.plot(agent.history['t_age']+time_params['Age_born'], agent.history['ShareNow'],'.')\n",
    "plt.xlabel('Age')\n",
    "plt.ylabel('Risky share')\n",
    "plt.title('Simulated Risky Portfolio Shares')\n",
    "plt.grid()\n",
    "\n",
    "if not in_ipynb():\n",
    "    plt.show(block=False) \n",
    "    plt.pause(1)\n",
    "else:\n",
    "    plt.show(block=True)"
   ]
  },
  {
   "cell_type": "markdown",
   "metadata": {
    "lines_to_next_cell": 2
   },
   "source": [
    "#### The average life cycle patterns\n",
    "\n",
    "We now increase the number of simulations to examine and compare the behavior of the mean values of variables of interest at different ages, conditional on survival. In each case we present the original plots from the paper for reference.\n",
    "\n",
    "The plot below illustrates the average dynamics of permanent income, consumption, and market resources across all of the simulated agents. The plot follows the general pattern observed in the original paper. However, our results show that the agents are accumulating significantly more market resources. "
   ]
  },
  {
   "cell_type": "code",
   "execution_count": null,
   "metadata": {
    "title": "Collect results in a DataFrame"
   },
   "outputs": [],
   "source": [
    "# Number of agents and periods in the simulation.\n",
    "agent.AgentCount = 50 # Number of instances of the class to be simulated.\n",
    "# Since agents can die, they are replaced by a new agent whenever they do.\n",
    "\n",
    "# Number of periods to be simulated\n",
    "agent.T_sim = 80*50\n",
    "\n",
    "# Run the simulations\n",
    "agent.initializeSim()\n",
    "agent.simulate()\n",
    "\n",
    "raw_data = {'Age': agent.history['t_age'].flatten()+time_params['Age_born'] - 1,\n",
    "            'pIncome': agent.history['pLvlNow'].flatten(),\n",
    "            'rShare': agent.history['ShareNow'].flatten(),\n",
    "            'nrmM': agent.history['mNrmNow'].flatten(),\n",
    "            'nrmC': agent.history['cNrmNow'].flatten()}\n",
    "\n",
    "Data = pd.DataFrame(raw_data)\n",
    "Data['Cons'] = Data.nrmC * Data.pIncome\n",
    "Data['M'] = Data.nrmM * Data.pIncome\n",
    "\n",
    "# Find the mean of each variable at every age\n",
    "AgeMeans = Data.groupby(['Age']).mean().reset_index()"
   ]
  },
  {
   "cell_type": "code",
   "execution_count": null,
   "metadata": {
    "title": "Simulation Plots"
   },
   "outputs": [],
   "source": [
    "plt.figure()\n",
    "plt.plot(AgeMeans.Age, AgeMeans.pIncome,\n",
    "         label = 'Income')\n",
    "plt.plot(AgeMeans.Age, AgeMeans.M,\n",
    "         label = 'Market resources')\n",
    "plt.plot(AgeMeans.Age, AgeMeans.Cons,\n",
    "         label = 'Consumption')\n",
    "plt.legend()\n",
    "plt.xlabel('Age')\n",
    "plt.title('Variable Means Conditional on Survival')\n",
    "plt.grid()\n",
    "\n",
    "if not in_ipynb():\n",
    "    plt.show(block=False) \n",
    "    plt.pause(1)\n",
    "else:\n",
    "    plt.show(block=True)"
   ]
  },
  {
   "cell_type": "markdown",
   "metadata": {},
   "source": [
    "<center><img src=\"Figures\\ConsWInc.jpg\" style=\"height:300px\"></center>"
   ]
  },
  {
   "cell_type": "code",
   "execution_count": null,
   "metadata": {},
   "outputs": [],
   "source": [
    "# Find age percentiles\n",
    "AgePC5 = Data.groupby(['Age']).quantile(0.05).reset_index()\n",
    "AgePC95 = Data.groupby(['Age']).quantile(0.95).reset_index()\n",
    "\n",
    "# plot till death - 1  \n",
    "age_1 = time_params['Age_death'] - time_params['Age_born']\n",
    "\n",
    "plt.figure()\n",
    "plt.ylim([0, 1.1])\n",
    "plt.plot(AgeMeans.Age[:age_1], AgeMeans.rShare[:age_1], label = 'Mean')\n",
    "plt.plot(AgePC5.Age[:age_1], AgePC5.rShare[:age_1], '--r', label='Perc. 5')\n",
    "plt.plot(AgePC95.Age[:age_1], AgePC95.rShare[:age_1], '--g', label = 'Perc. 95')\n",
    "plt.legend()\n",
    "\n",
    "plt.xlabel('Age')\n",
    "plt.ylabel('Risky Share')\n",
    "plt.title('Risky Portfolio Share Mean Conditional on Survival')\n",
    "plt.grid()\n",
    "\n",
    "if not in_ipynb():\n",
    "    plt.show(block=False) \n",
    "    plt.pause(1)\n",
    "else:\n",
    "    plt.show(block=True)"
   ]
  },
  {
   "cell_type": "markdown",
   "metadata": {},
   "source": [
    "<center><img src=\"Figures\\ShareMeanSim.jpg\" style=\"height:300px\"></center>"
   ]
  },
  {
   "cell_type": "markdown",
   "metadata": {},
   "source": [
    "### Other results in the original paper\n",
    "\n",
    "#### The welfare implications of different allocation rules\n",
    "\n",
    "The authors next conduct a welfare analysis of different allocation rules, including popular heuristics. The rules are presented in the next figure.\n",
    "\n",
    "<center><img src=\"Figures\\Alloc_rules.jpg\" style=\"height:500px\"></center>\n",
    "\n",
    "The utility cost of each policy in terms of constant consumption streams with respect to the authors calculated optimal policy function is reported in the next table.\n",
    "\n",
    "<center><img src=\"Figures\\Util_cost.jpg\" style=\"height:100px\"></center>\n",
    "\n",
    "Interestingly, the \"no-income\" column corresponds to the usual portfolio choice result of the optimal share being the quotient of excess returns and risk times relative risk aversion, disregarding labor income. The experiment shows this allocation produces substantial welfare losses.\n",
    "\n",
    "#### Heterogeneity and sensitivity analysis\n",
    "\n",
    "The authors also considered a number of extensions to the baseline model. These are summarized below along with their main conclusions.\n",
    "\n",
    "- Labor income risk: Income risk may vary across employment sectors relative to the baseline model. The authors examine extreme cases for industries that have a large standard deviation and temporary income shocks. While some differences appear across sectors, the results are generally in line with the baseline model.\n",
    "- Disastrous labor income shocks: The authors find that even a small probability of zero labor income lowers the optimal portfolio allocation in stocks, while the qualitative features of the baseline model are preserved.\n",
    "- Uncertain retirement income: The authors consider two types of uncertainty for retirement income; it is stochastic and correlated with current stock market performance and allowing for disastrous labor income draws before retirement. The first extension has results essentially the same as the baseline case. The second leads to more conservative portfolio allocations but is broadly consistent with the baseline model.\n",
    "- Endogenous borrowing constraints: The authors add borrowing to their model by building on credit-market imperfections. They find that the average investor borrows about \\$5,000 and are in debt for most of their working life. The agents eventually pay off this debt and save for retirement. Relative to the benchmark model, the investor has put less of their money in their portfolio and arrive at retirement with substantially less wealth. These results are particularly pronounced at the lower end of the income distribution relative to the higher end. Additional details are available in the text.\n",
    "- Bequest motive: The authors introduce a bequest motive into the agent's utility function (i.e., $b>0$). Young investors are more impatient and tend to save less for bequests. As the agent ages, savings increases and is strongest once the agent retires. This leads to effects on the agent's portfolio allocation. Taking a step-back however, these effects are not very large unless $b$ is large.\n",
    "- Educational attainment: The authors generally find that savings are consistent across education groups. They note that for a given age, the importance of future income is increasing with education level. This implies that riskless asset holdings are larger for these households.\n",
    "- Risk aversion and intertemporal substitution: Lowering the level of risk aversion in the model leads to changes in the optimal portfolio allocation and wealth accumulation. Less risk-averse investors accumulate less precautionary savings and invest more in risky assets.\n",
    "\n",
    "### Conclusion\n",
    "\n",
    "This article provides a dynamic model with accurate lifetime income profiles in which labor income increases risky asset holdings, as it is seen as a closer substitute of risk-free assets. It finds an optimal risky asset share that decreases in wealth and with age, after middle age. The model is also used to show that ignoring labor income for portfolio allocation can generate substantial welfare losses."
   ]
  },
  {
   "cell_type": "markdown",
   "metadata": {},
   "source": [
    "### Puzzles and Questions\n",
    "\n",
    "- Table 4 says stock returns are $0.06$. They might mean that the equity premium $\\mu$ is $0.06$.\n",
    "- The authors report taking the normalization $v_{i,t} = 1$. However the ranges of their results seem more consistent with $v_{i,t} = 0$ so that $\\exp (v_{i,t}) = 1$, which also makes more sense for interpretation.\n"
   ]
  },
  {
   "cell_type": "markdown",
   "metadata": {},
   "source": [
    "### Robustness Analyses\n",
    "\n",
    "Given the differences between our results and the original paper, we did a number of checks to ensure our model was behaving consistently with well-established theoretical results. Specifically we checked:\n",
    "- For an infinitely lived agent with log normal returns, that their optimal portfolio allocation converges to the Campbell-Viceira (2002) approximation to the optimal portfolio share in Merton-Samuelson (1969) model.\n",
    "- For an infinitely lived agent with no labor income that can only invest in a single risky asset, that their marginal propensity to consumer converges to the theoretical MPC of Merton-Samuelson (1969).\n",
    "- For an agent facing no labor income risk, that their consumption patterns precisely match the results from a perfect foresight solution.\n",
    "\n",
    "In all three cases, we verified that our HARK model holds up to these results. More details and specific results are available upon request. \n",
    "\n",
    "As the HARK toolkit continues to develop, there are additional sensitivities that we can perform to further check the credibility of our results. Specifically, once human wealth is available in the $\\texttt{PortfolioConsumerType}$ class, we can perform the following additional checks, which were kindly suggested by Professor Sylvain Catherine:\n",
    "- Shut down the income risk and remove retirement income. The solution to this new problem are provided by Merton 1971. Basically, you capitalize future earnings as an endowment of risk free asset. Then the equity share should be such that Equity/(Wealth+NPV of Human capital) is the same as the equity share in Merton 1969.\n",
    "- Adding back the permanent income risk and check if the equity share is consistent with Viceira 2001. Viceira tells you something like this: $\\pi = \\frac{\\mu - r}{\\gamma \\sigma^2_s} + \\left(\\frac{\\mu - r}{\\gamma \\sigma^2_s} - \\beta_{HC} \\right) \\frac{HC}{W}$, where $\\beta_{HC} = \\frac{\\text{Cov}(r_{HC},r_s)}{\\text{Var}(r_s)}$. In the CGM problem it is easy to compute $\\beta_{HC}$ because earnings follow a simple random walk. HC is the NPV of human capital, which you can approximate very well by discounting expected earnings by $r+\\beta_{HC}*(rm-r)$."
   ]
  },
  {
   "cell_type": "markdown",
   "metadata": {},
   "source": [
    "### Bibliographic entry of the original article"
   ]
  },
  {
   "cell_type": "code",
   "execution_count": null,
   "metadata": {},
   "outputs": [],
   "source": [
    "### Bibtex entry\n",
    "'''\n",
    "@article{10.1093/rfs/hhi017,\n",
    "    author = {Cocco, João F. and Gomes, Francisco J. and Maenhout, Pascal J.},\n",
    "    title = \"{Consumption and Portfolio Choice over the Life Cycle}\",\n",
    "    journal = {The Review of Financial Studies},\n",
    "    volume = {18},\n",
    "    number = {2},\n",
    "    pages = {491-533},\n",
    "    year = {2005},\n",
    "    month = {02},\n",
    "    abstract = \"{This article solves a realistically calibrated life cycle model of consumption and portfolio choice with non-tradable labor income and borrowing constraints. Since labor income substitutes for riskless asset holdings, the optimal share invested in equities is roughly decreasing over life. We compute a measure of the importance of human capital for investment behavior. We find that ignoring labor income generates large utility costs, while the cost of ignoring only its risk is an order of magnitude smaller, except when we allow for a disastrous labor income shock. Moreover, we study the implications of introducing endogenous borrowing constraints in this incomplete-markets setting.}\",\n",
    "    issn = {0893-9454},\n",
    "    doi = {10.1093/rfs/hhi017},\n",
    "    url = {https://doi.org/10.1093/rfs/hhi017},\n",
    "    eprint = {http://oup.prod.sis.lan/rfs/article-pdf/18/2/491/24421441/hhi017.pdf},\n",
    "}\n",
    "'''"
   ]
  }
 ],
 "metadata": {
  "jupytext": {
   "encoding": "# -*- coding: utf-8 -*-",
   "formats": "ipynb,py:percent",
   "notebook_metadata_filter": "all"
  },
  "kernelspec": {
   "display_name": "Python 3",
   "language": "python",
   "name": "python3"
  },
  "language_info": {
   "codemirror_mode": {
    "name": "ipython",
    "version": 3
   },
   "file_extension": ".py",
   "mimetype": "text/x-python",
   "name": "python",
   "nbconvert_exporter": "python",
   "pygments_lexer": "ipython3",
   "version": "3.7.9"
  },
  "latex_envs": {
   "LaTeX_envs_menu_present": true,
   "autoclose": false,
   "autocomplete": true,
   "bibliofile": "biblio.bib",
   "cite_by": "apalike",
   "current_citInitial": 1,
   "eqLabelWithNumbers": true,
   "eqNumInitial": 1,
   "hotkeys": {
    "equation": "Ctrl-E",
    "itemize": "Ctrl-I"
   },
   "labels_anchors": false,
   "latex_user_defs": false,
   "report_style_numbering": false,
   "user_envs_cfg": false
  }
 },
 "nbformat": 4,
 "nbformat_minor": 4
}
